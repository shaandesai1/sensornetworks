{
 "cells": [
  {
   "cell_type": "code",
   "execution_count": 106,
   "metadata": {},
   "outputs": [],
   "source": [
    "import numpy as np\n",
    "import os\n",
    "import glob\n",
    "import sys\n",
    "import matplotlib.pyplot as plt\n",
    "from statsmodels.distributions.empirical_distribution import ECDF\n",
    "from scipy.stats import norm\n",
    "import argparse\n",
    "import csv\n",
    "\n",
    "#\n",
    "# Implements the HORUS probabilistic WiFi Localization system\n",
    "# ( Mobile and Sensor Networks course - University of Oxford )\n",
    "# April 2016\n",
    "#\n",
    "\n",
    "def init():\n",
    "    print(\"\")\n",
    "    print ('*' * 60)\n",
    "    print (' The Horus Localization System')\n",
    "    print (\" Sensor Networks Course - University of Oxford\")\n",
    "    print ('*' * 60)\n",
    "    print (\"\")\n",
    "    print (\"\")\n",
    "    return\n",
    "\n",
    "\n",
    "# Function to load the wifi RSS data\n",
    "def load_wifi_data(data_folder, n_samples, n_ap):\n",
    "    \"\"\"\n",
    "    :param data_folder: Location of WiFi RSS data\n",
    "    :param n_samples: Number of RSS samples collected for each location\n",
    "    :param n_ap: Number of access points\n",
    "    :return: train and test wifi databases\n",
    "    \"\"\"\n",
    "\n",
    "    sys.stdout.write(\"-> Loading files...\")\n",
    "\n",
    "    train_path = data_folder + \"/\" + \"wifiData/\"\n",
    "    test_path = data_folder + \"/\" + \"testWifiData/\"\n",
    "\n",
    "    # We are going to examine two cases with 3 and 5 Access Points (APs)\n",
    "    if n_ap == 3:\n",
    "        ap_index = [1, 2, 3]\n",
    "    else:\n",
    "        ap_index = [1, 2, 3, 4, 5]\n",
    "\n",
    "    # We read the wifi RSS collected in the training phase to built the Wifi database\n",
    "    os.chdir(train_path)\n",
    "    train_files = glob.glob(\"*.txt\")\n",
    "    n_locations = len(train_files)\n",
    "    wifi_database = np.zeros((n_locations, (n_ap * n_samples) + 3))\n",
    "    ap_name = \"AP_\"\n",
    "\n",
    "    file_count = -1\n",
    "    for f in train_files:\n",
    "        file_count += 1\n",
    "\n",
    "        if n_ap == 3:\n",
    "            ap_counter = [0, 0, 0]\n",
    "        else:\n",
    "            ap_counter = [0, 0, 0, 0, 0]\n",
    "\n",
    "        fid = open(f, 'r')\n",
    "        wifi_database[file_count, 0] = file_count\n",
    "        first_line = 0\n",
    "        for line in fid:\n",
    "            data = line.split()\n",
    "            if first_line == 0:\n",
    "                first_line += 1\n",
    "                wifi_database[file_count, 1] = int(data[0])\n",
    "                wifi_database[file_count, 2] = int(data[1])\n",
    "            else:\n",
    "                for idx in range(1, n_ap + 1):\n",
    "                    if data[1] == (ap_name + str(idx)):\n",
    "                        ap_counter[idx - 1] += 1\n",
    "                        db_index = int((n_samples * (ap_index[idx - 1] - 1)) + 2 + ap_counter[idx - 1])\n",
    "                        wifi_database[file_count, db_index] = float(data[2])\n",
    "    os.chdir(\"../..\")\n",
    "\n",
    "    # Now we load the test points. Wifi data collected at unknown locations.\n",
    "    os.chdir(test_path)\n",
    "    test_files = glob.glob(\"*.txt\")\n",
    "    test_files.sort()\n",
    "    n_locations = len(test_files)\n",
    "    test_db = np.zeros((n_locations, (n_ap * (n_samples - 10)) + 3))\n",
    "\n",
    "    file_count = -1\n",
    "    for f in test_files:\n",
    "        file_count += 1\n",
    "\n",
    "        if n_ap == 3:\n",
    "            ap_counter = [0, 0, 0]\n",
    "        else:\n",
    "            ap_counter = [0, 0, 0, 0, 0]\n",
    "\n",
    "        fid = open(f, 'r')\n",
    "        test_db[file_count, 0] = file_count\n",
    "        first_line = 0\n",
    "        for line in fid:\n",
    "            data = line.split()\n",
    "            if first_line == 0:\n",
    "                first_line += 1\n",
    "                test_db[file_count, 1] = int(data[0])\n",
    "                test_db[file_count, 2] = int(data[1])\n",
    "            else:\n",
    "                for idx in range(1, n_ap + 1):\n",
    "                    if data[1] == (ap_name + str(idx)):\n",
    "                        ap_counter[idx - 1] += 1\n",
    "                        db_index = int(((n_samples - 10) * (ap_index[idx - 1] - 1)) + 2 + ap_counter[idx - 1])\n",
    "                        test_db[file_count, db_index] = float(data[2])\n",
    "\n",
    "    sys.stdout.write(\"done\\n\")\n",
    "    return wifi_database, test_db\n",
    "\n",
    "\n",
    "# Visualize fingerprint locations and locations of APs\n",
    "def show_fingerprints(train_db, n_ap):\n",
    "    \"\"\"\n",
    "    :param train_db: RSS points collected at known locations\n",
    "    :param n_ap: Number of APs\n",
    "    :return: null\n",
    "    \"\"\"\n",
    "    sys.stdout.write(\"-> Displaying fingerprints...\")\n",
    "\n",
    "    if n_ap == 3:\n",
    "        ap_loc = np.array([[6, 6], [8, 16], [18, 14]])\n",
    "    else:\n",
    "        ap_loc = np.array([[6, 6], [8, 16], [18, 14], [16, 4], [12, 10]])\n",
    "\n",
    "    plt.figure()\n",
    "    plt.plot(train_db[:, 1], train_db[:, 2], 'co', markersize=17)\n",
    "    plt.plot(ap_loc[:, 0], ap_loc[:, 1], 'b*', markersize=10)\n",
    "    major_ticks = np.arange(-2, 22, 2)\n",
    "    axes = plt.gca()\n",
    "    axes.set_xlim([-2, 22])\n",
    "    axes.set_ylim([-2, 22])\n",
    "    axes.set_xticks(major_ticks)\n",
    "    axes.set_yticks(major_ticks)\n",
    "    plt.grid(True)\n",
    "    plt.xlabel(\"X -> m\")\n",
    "    plt.ylabel(\"Y -> m\")\n",
    "    plt.title(\"Cyan points: fingerprint locations, Blue points: Access Points\")\n",
    "    plt.show(block=False)\n",
    "    sys.stdout.write(\"done\\n\")\n",
    "\n",
    "    return\n",
    "\n",
    "\n",
    "# Fit a normal distribution to the RSS data\n",
    "def fit_data(train_db, n_samples, n_ap):\n",
    "    \"\"\"\n",
    "    :param train_db: RSS points collected at known locations\n",
    "    :param n_samples: Number of RSS samples per location\n",
    "    :param n_ap: Number of access points\n",
    "    :return: Wifi fingerprint database; We approximate the RSS at each location with a Gaussian\n",
    "    \"\"\"\n",
    "\n",
    "    sys.stdout.write(\"-> Modeling RSS with Gaussian dist...\")\n",
    "\n",
    "    n_loc = len(train_db)\n",
    "\n",
    "    # Initialize Wifi database\n",
    "    wifi_db = np.zeros((n_loc, 3 + (n_ap * 2)))\n",
    "\n",
    "    for i in range(0, n_loc):\n",
    "        wifi_db[i, 0] = i\n",
    "        wifi_db[i, 1] = train_db[i, 1]\n",
    "        wifi_db[i, 2] = train_db[i, 2]\n",
    "        for j in range(0, n_ap):\n",
    "            ind_start = int((n_samples * j) + 3)\n",
    "            ind_end = int((j + 1) * n_samples + 3)\n",
    "            dat = train_db[i, ind_start:ind_end]\n",
    "            [mu, sigma] = norm.fit(dat)\n",
    "            wifi_db[i, (j * 2) + 3] = mu\n",
    "            wifi_db[i, (j * 2) + 4] = sigma\n",
    "\n",
    "    sys.stdout.write(\"done\\n\")\n",
    "    return wifi_db\n",
    "\n",
    "\n",
    "# Plot Wifi RSS histogram per location - Fit a  Gaussian Dist to the data\n",
    "def plot_histogram(train_db, location, n_ap, n_samples):\n",
    "    \"\"\"\n",
    "    :param train_db: RSS points collected at known locations\n",
    "    :param location: Location to plot the RSS histogram\n",
    "    :param n_ap: Number of access points\n",
    "    :param n_samples: Number of RSS samples per location\n",
    "    :return: null\n",
    "    \"\"\"\n",
    "\n",
    "    sys.stdout.write(\"-> Visualizing histograms...\")\n",
    "\n",
    "    if (location < 0) or (location >= len(train_db)):\n",
    "        location = 0\n",
    "\n",
    "    # Extract the RSS data from :param location\n",
    "    for i in range(0, n_ap):\n",
    "        ind_start = int((n_samples * i) + 3)\n",
    "        ind_end = int((i + 1) * n_samples + 3)\n",
    "        dat = train_db[location, ind_start:ind_end]\n",
    "\n",
    "        # Plot the RSS histogram\n",
    "        plt.figure()\n",
    "        n_bins = int(round(np.sqrt(len(dat))))\n",
    "        plt.hist(dat, bins=n_bins, normed=True, alpha=0.6, color='g')\n",
    "\n",
    "        # Approximate the histogram with a Gaussian distribution\n",
    "        [mu, sigma] = norm.fit(dat)\n",
    "        x = np.linspace(mu - 4 * sigma, mu + 4 * sigma, 500)\n",
    "        y = norm.pdf(x, mu, sigma)\n",
    "        plt.plot(x, y, 'r-', linewidth=2)\n",
    "        plt.xlabel('Wifi RSS -> dBm')\n",
    "        plt.ylabel('Frequency')\n",
    "        plt.title('RSS histogram of AP=%d , Norm(%.2f,%.2f)' % (i + 1, mu, sigma))\n",
    "        plt.grid(True)\n",
    "        plt.show(block=False)\n",
    "\n",
    "    sys.stdout.write(\"done\\n\")\n",
    "    return\n",
    "\n",
    "\n",
    "# The Horus probabilistic localization system\n",
    "def predict(wifi_db, test_db, n_ap, n_samples):\n",
    "    \"\"\"\n",
    "    :param wifi_db: The Wifi database\n",
    "    :param test_db: Wifi RSS points an the unknown locations\n",
    "    :param n_ap: Number of APs\n",
    "    :param n_samples: Samples per location\n",
    "    :return: The estimated locations\n",
    "    \"\"\"\n",
    "\n",
    "    sys.stdout.write(\"-> Running Horus...\")\n",
    "\n",
    "    predicted_loc = np.zeros((len(test_db), 2))\n",
    "    actual_loc = test_db[:, 1:3]\n",
    "\n",
    "    # - - - - WRITE YOUR CODE HERE - - - - -\n",
    "\n",
    "    new_means = np.zeros((121,8))\n",
    "    test_means = np.zeros((63,5))\n",
    "    trainDB = wifi_db[:,1:]\n",
    "    testDB = test_db[:,1:]\n",
    "    \n",
    "    #print(trainDB.shape)\n",
    "    \n",
    "    new_means[:,0] = trainDB[:,0]\n",
    "    new_means[:,1] = trainDB[:,1]\n",
    "    new_means[:,2] = trainDB[:,2]\n",
    "    new_means[:,3] = trainDB[:,4]\n",
    "    new_means[:,4] = trainDB[:,6]\n",
    "    \n",
    "    new_means[:,5] = trainDB[:,3]\n",
    "    new_means[:,6] = trainDB[:,5]\n",
    "    new_means[:,7] = trainDB[:,7]\n",
    "    \n",
    "    \n",
    "    test_means[:,0] = testDB[:,0]\n",
    "    test_means[:,1] = testDB[:,1]\n",
    "    test_means[:,2] = testDB[:,2:52].mean(axis=1)\n",
    "    test_means[:,3] = testDB[:,52:102].mean(axis=1)\n",
    "    test_means[:,4] = testDB[:,102:152].mean(axis=1)\n",
    "    \n",
    "    AP1 = wifi_db[:,3:5]\n",
    "    AP2 = wifi_db[:,5:7]\n",
    "    AP3 = wifi_db[:,7:]\n",
    "    \n",
    "    print(AP1.shape,AP2.shape,AP3.shape)\n",
    "    storage_preds = []\n",
    "    for i in range(63):\n",
    "        \n",
    "#         vec = test_means[i,2:]\n",
    "#         mat = new_means[:,2:]\n",
    "        loss = np.zeros(AP1.shape[0])\n",
    "        for j in range(AP1.shape[0]):\n",
    "            loss[j] = log_loss(testDB[i,2:52],AP1[j,0],AP1[j,1])+log_loss(testDB[i,52:102],AP2[j,0],AP2[j,1])+log_loss(testDB[i,102:152],AP3[j,0],AP3[j,1])\n",
    "        \n",
    "#         print(loss)\n",
    "        \n",
    "        \n",
    "#         results = np.linalg.norm(mat-vec,axis=1)\n",
    "        #print(mat)\n",
    "        #print(vec)\n",
    "        \n",
    "        result = np.argmax(loss)\n",
    "#         print(result)\n",
    "        storage_preds.append(wifi_db[result,1:3])\n",
    "#     print(storage_preds)\n",
    "        \n",
    "        \n",
    "        \n",
    "        \n",
    "    \n",
    "    \n",
    "    # - - - - - - - - - - - - - - - - - - - -\n",
    "\n",
    "    sys.stdout.write(\"done\\n\")\n",
    "    return actual_loc, np.array(storage_preds)\n",
    "\n",
    "\n",
    "# Plot the actual and estimated locations\n",
    "def plot_path(actual_loc, predicted_loc, n_ap):\n",
    "    \"\"\"\n",
    "    :param actual_loc: Actual locations\n",
    "    :param predicted_loc: Estimated locations\n",
    "    :param n_ap: Number of APs\n",
    "    :return: null\n",
    "    \"\"\"\n",
    "    sys.stdout.write(\"-> Visualizing estimated trajectory...\")\n",
    "\n",
    "    if n_ap == 3:\n",
    "        ap_loc = np.array([[6, 6], [8, 16], [18, 14]])\n",
    "    else:\n",
    "        ap_loc = np.array([[6, 6], [8, 16], [18, 14], [16, 4], [12, 10]])\n",
    "\n",
    "    plt.figure()\n",
    "    plt.plot(ap_loc[:, 0], ap_loc[:, 1], 'b*', markersize=15)\n",
    "    plt.plot(actual_loc[:, 0], actual_loc[:, 1], 'go-', linewidth=2)\n",
    "    plt.plot(predicted_loc[:, 0], predicted_loc[:, 1], 'ro-', linewidth=2)\n",
    "\n",
    "    major_ticks = np.arange(-2, 22, 2)\n",
    "\n",
    "    axes = plt.gca()\n",
    "    axes.set_xlim([-2, 22])\n",
    "    axes.set_ylim([-2, 22])\n",
    "    axes.set_xticks(major_ticks)\n",
    "    axes.set_yticks(major_ticks)\n",
    "    plt.xlabel('X -> m')\n",
    "    plt.ylabel('Y -> m')\n",
    "    plt.title('Green line = actual path , Red line = estimated path, Blue points = AP loc')\n",
    "    plt.grid(True)\n",
    "    plt.savefig('main_img.pdf',bbox_inches='tight')\n",
    "\n",
    "    plt.show(block=False)\n",
    "\n",
    "    \n",
    "    sys.stdout.write(\"done\\n\")\n",
    "    return\n",
    "\n",
    "\n",
    "# Calculate and plot the localization error\n",
    "def plot_error(actual_loc, predicted_loc):\n",
    "    \"\"\"\n",
    "    :param actual_loc: Actual locations\n",
    "    :param predicted_loc: Estimated Locations\n",
    "    :return: null\n",
    "    \"\"\"\n",
    "\n",
    "    sys.stdout.write(\"-> Calculating localization error...\")\n",
    "\n",
    "    err = np.zeros((1, len(actual_loc)))\n",
    "    for i in range(0, len(actual_loc)):\n",
    "        err[0, i] = np.sqrt((actual_loc[i, 0] - predicted_loc[i, 0]) ** 2 +\n",
    "                            (actual_loc[i, 1] - predicted_loc[i, 1]) ** 2)\n",
    "\n",
    "    mean_err = np.mean(err)\n",
    "\n",
    "    ecdf = ECDF(err[0, :])\n",
    "    plt.figure()\n",
    "    plt.plot(ecdf.x, ecdf.y)\n",
    "    plt.grid(True)\n",
    "    plt.xlabel('error -> m')\n",
    "    plt.ylabel('Probability')\n",
    "    plt.title('Error CDF , Mean error = %.3f' % mean_err)\n",
    "    plt.show(block=False)\n",
    "\n",
    "    sys.stdout.write(\"done\\n\")\n",
    "    return\n",
    "\n",
    "\n",
    "def log_loss(val,mu,sigma):\n",
    "    log_loss = (-(val-mu)**2)/(sigma**2)\n",
    "    return log_loss.sum()"
   ]
  },
  {
   "cell_type": "code",
   "execution_count": 107,
   "metadata": {},
   "outputs": [],
   "source": [
    "os.chdir('/Users/shaan/Desktop/sensornetworks/')"
   ]
  },
  {
   "cell_type": "code",
   "execution_count": 108,
   "metadata": {
    "scrolled": false
   },
   "outputs": [
    {
     "name": "stdout",
     "output_type": "stream",
     "text": [
      "\n",
      "************************************************************\n",
      " The Horus Localization System\n",
      " Sensor Networks Course - University of Oxford\n",
      "************************************************************\n",
      "\n",
      "\n",
      "-> Loading files...done\n",
      "-> Visualizing histograms..."
     ]
    },
    {
     "name": "stderr",
     "output_type": "stream",
     "text": [
      "/Users/shaan/anaconda3/lib/python3.6/site-packages/matplotlib/axes/_axes.py:6462: UserWarning: The 'normed' kwarg is deprecated, and has been replaced by the 'density' kwarg.\n",
      "  warnings.warn(\"The 'normed' kwarg is deprecated, and has been \"\n"
     ]
    },
    {
     "data": {
      "image/png": "[encoded data removed]",
      "text/plain": [
       "<Figure size 432x288 with 1 Axes>"
      ]
     },
     "metadata": {},
     "output_type": "display_data"
    },
    {
     "name": "stderr",
     "output_type": "stream",
     "text": [
      "/Users/shaan/anaconda3/lib/python3.6/site-packages/matplotlib/axes/_axes.py:6462: UserWarning: The 'normed' kwarg is deprecated, and has been replaced by the 'density' kwarg.\n",
      "  warnings.warn(\"The 'normed' kwarg is deprecated, and has been \"\n"
     ]
    },
    {
     "data": {
      "image/png": "[encoded data removed]",
      "text/plain": [
       "<Figure size 432x288 with 1 Axes>"
      ]
     },
     "metadata": {},
     "output_type": "display_data"
    },
    {
     "name": "stderr",
     "output_type": "stream",
     "text": [
      "/Users/shaan/anaconda3/lib/python3.6/site-packages/matplotlib/axes/_axes.py:6462: UserWarning: The 'normed' kwarg is deprecated, and has been replaced by the 'density' kwarg.\n",
      "  warnings.warn(\"The 'normed' kwarg is deprecated, and has been \"\n"
     ]
    },
    {
     "data": {
      "image/png": "[encoded data removed]",
      "text/plain": [
       "<Figure size 432x288 with 1 Axes>"
      ]
     },
     "metadata": {},
     "output_type": "display_data"
    },
    {
     "name": "stdout",
     "output_type": "stream",
     "text": [
      "done\n",
      "-> Modeling RSS with Gaussian dist...done\n",
      "-> Running Horus...(121, 2) (121, 2) (121, 2)\n",
      "done\n",
      "-> Visualizing estimated trajectory..."
     ]
    },
    {
     "data": {
      "image/png": "[encoded data removed]",
      "text/plain": [
       "<Figure size 432x288 with 1 Axes>"
      ]
     },
     "metadata": {},
     "output_type": "display_data"
    },
    {
     "name": "stdout",
     "output_type": "stream",
     "text": [
      "done\n"
     ]
    }
   ],
   "source": [
    "# --------------------------------------------------------------\n",
    "# MAIN CODE\n",
    "# --------------------------------------------------------------\n",
    "\n",
    "# ----- Constants -----\n",
    "# Number of measurements per location\n",
    "nSamples = 60\n",
    "\n",
    "# ---- Configure Parameters -----\n",
    "# Select Dataset (set1 or set2)\n",
    "#parser = argparse.ArgumentParser()\n",
    "#parser.add_argument('-s','--data_set', choices={\"set1\", \"set2\"}, type=str, \n",
    "#    default='set1')\n",
    "#args = parser.parse_args()\n",
    "data_set = 'set1'\n",
    "\n",
    "# Visualize the RSS in location = loc\n",
    "loc = 2\n",
    "\n",
    "# ----- Run System ------\n",
    "\n",
    "# set1 contains 3 access points and set2 5 access points\n",
    "if data_set == \"set1\":\n",
    "    nAP = 3\n",
    "else:\n",
    "    nAP = 5\n",
    "\n",
    "init()\n",
    "\n",
    "# Load the RSS measurements from file\n",
    "(trainDB, testDB) = load_wifi_data(data_set, nSamples, nAP)\n",
    "\n",
    "# Show fingerprint locations\n",
    "#show_fingerprints(trainDB, nAP)\n",
    "\n",
    "# Plot the RSS histogram and approximate it with a Gaussian\n",
    "plot_histogram(trainDB, loc, nAP, nSamples)\n",
    "\n",
    "# Fit Gaussian distribution to the RSS measurements\n",
    "wifiDB = fit_data(trainDB, nSamples, nAP)\n",
    "\n",
    "# Run the localization algorithm\n",
    "# Estimate the unknown location given RSS measurements at that location\n",
    "(actualLoc, predictedLoc) = predict(wifiDB, testDB, nAP, nSamples)\n",
    "\n",
    "# Visualize the actual and estimated locations\n",
    "plot_path(actualLoc, predictedLoc, nAP)\n",
    "# Plot the mean localization error and error CDF\n",
    "# plot_error(actualLoc, predictedLoc)\n",
    "\n"
   ]
  },
  {
   "cell_type": "code",
   "execution_count": 91,
   "metadata": {},
   "outputs": [
    {
     "data": {
      "text/plain": [
       "(63, 2)"
      ]
     },
     "execution_count": 91,
     "metadata": {},
     "output_type": "execute_result"
    }
   ],
   "source": [
    "np.array(predictedLoc).shape"
   ]
  },
  {
   "cell_type": "code",
   "execution_count": 89,
   "metadata": {},
   "outputs": [
    {
     "data": {
      "text/plain": [
       "(63, 2)"
      ]
     },
     "execution_count": 89,
     "metadata": {},
     "output_type": "execute_result"
    }
   ],
   "source": [
    "actualLoc.shape"
   ]
  },
  {
   "cell_type": "code",
   "execution_count": 92,
   "metadata": {},
   "outputs": [
    {
     "name": "stdout",
     "output_type": "stream",
     "text": [
      "-> Visualizing estimated trajectory..."
     ]
    },
    {
     "data": {
      "image/png": "[encoded data removed]",
      "text/plain": [
       "<Figure size 432x288 with 1 Axes>"
      ]
     },
     "metadata": {},
     "output_type": "display_data"
    },
    {
     "name": "stdout",
     "output_type": "stream",
     "text": [
      "done\n"
     ]
    }
   ],
   "source": [
    "plot_path(actualLoc, np.array(predictedLoc), nAP)\n"
   ]
  },
  {
   "cell_type": "code",
   "execution_count": 76,
   "metadata": {},
   "outputs": [
    {
     "data": {
      "text/plain": [
       "array([[  0.        ,   0.        ,   0.        , ...,   4.84854032,\n",
       "        -43.36283333,   4.39427434],\n",
       "       [  1.        ,   2.        ,   6.        , ...,   4.8127828 ,\n",
       "        -42.58916667,   4.78920324],\n",
       "       [  2.        ,   4.        ,  12.        , ...,   4.8737488 ,\n",
       "        -41.0375    ,   4.50920156],\n",
       "       ...,\n",
       "       [118.        ,   4.        ,  14.        , ...,   5.40315139,\n",
       "        -40.82033333,   4.72321747],\n",
       "       [119.        ,   4.        ,   2.        , ...,   5.62216035,\n",
       "        -42.83983333,   4.36469223],\n",
       "       [120.        ,   2.        ,  12.        , ...,   5.22856017,\n",
       "        -41.78816667,   3.70735462]])"
      ]
     },
     "execution_count": 76,
     "metadata": {},
     "output_type": "execute_result"
    }
   ],
   "source": [
    "wifiDB"
   ]
  },
  {
   "cell_type": "code",
   "execution_count": 77,
   "metadata": {},
   "outputs": [
    {
     "data": {
      "text/plain": [
       "array([[  0.  ,   0.  ,   0.  , ..., -44.12, -46.  , -48.89],\n",
       "       [  1.  ,   2.  ,   6.  , ..., -43.53, -36.01, -46.65],\n",
       "       [  2.  ,   4.  ,  12.  , ..., -40.12, -40.74, -44.34],\n",
       "       ...,\n",
       "       [118.  ,   4.  ,  14.  , ..., -42.92, -42.61, -44.89],\n",
       "       [119.  ,   4.  ,   2.  , ..., -39.23, -45.67, -39.11],\n",
       "       [120.  ,   2.  ,  12.  , ..., -40.92, -41.14, -41.53]])"
      ]
     },
     "execution_count": 77,
     "metadata": {},
     "output_type": "execute_result"
    }
   ],
   "source": [
    "trainDB"
   ]
  },
  {
   "cell_type": "code",
   "execution_count": 79,
   "metadata": {},
   "outputs": [
    {
     "ename": "NameError",
     "evalue": "name 'wifi_db' is not defined",
     "output_type": "error",
     "traceback": [
      "\u001b[0;31m---------------------------------------------------------------------------\u001b[0m",
      "\u001b[0;31mNameError\u001b[0m                                 Traceback (most recent call last)",
      "\u001b[0;32m<ipython-input-79-504613171bf5>\u001b[0m in \u001b[0;36m<module>\u001b[0;34m()\u001b[0m\n\u001b[0;32m----> 1\u001b[0;31m \u001b[0mwifi_db\u001b[0m\u001b[0;34m\u001b[0m\u001b[0m\n\u001b[0m",
      "\u001b[0;31mNameError\u001b[0m: name 'wifi_db' is not defined"
     ]
    }
   ],
   "source": [
    "wifi_db"
   ]
  },
  {
   "cell_type": "code",
   "execution_count": 28,
   "metadata": {},
   "outputs": [],
   "source": [
    "new_means = np.zeros((121,5))\n",
    "trainDB = trainDB[:,1:]\n"
   ]
  },
  {
   "cell_type": "code",
   "execution_count": 30,
   "metadata": {},
   "outputs": [
    {
     "data": {
      "text/plain": [
       "(121, 182)"
      ]
     },
     "execution_count": 30,
     "metadata": {},
     "output_type": "execute_result"
    }
   ],
   "source": [
    "trainDB.shape"
   ]
  },
  {
   "cell_type": "code",
   "execution_count": 31,
   "metadata": {},
   "outputs": [
    {
     "data": {
      "text/plain": [
       "array([[  0.  ,   0.  , -44.63, ..., -44.12, -46.  , -48.89],\n",
       "       [  2.  ,   6.  , -37.97, ..., -43.53, -36.01, -46.65],\n",
       "       [  4.  ,  12.  , -42.2 , ..., -40.12, -40.74, -44.34],\n",
       "       ...,\n",
       "       [  4.  ,  14.  , -44.24, ..., -42.92, -42.61, -44.89],\n",
       "       [  4.  ,   2.  , -39.15, ..., -39.23, -45.67, -39.11],\n",
       "       [  2.  ,  12.  , -43.08, ..., -40.92, -41.14, -41.53]])"
      ]
     },
     "execution_count": 31,
     "metadata": {},
     "output_type": "execute_result"
    }
   ],
   "source": [
    "\n",
    "new_means[:,0] = trainDB[:,0]\n",
    "new_means[:,1] = trainDB[:,1]\n",
    "new_means[:,2] =trainDB[:,2:62].mean(axis=1)\n",
    "new_means[:,3] =trainDB[:,62:122].mean(axis=1)\n",
    "new_means[:,4] =trainDB[:,122:182].mean(axis=1)\n",
    "\n",
    "trainDB"
   ]
  },
  {
   "cell_type": "code",
   "execution_count": 35,
   "metadata": {},
   "outputs": [
    {
     "data": {
      "text/plain": [
       "(63, 153)"
      ]
     },
     "execution_count": 35,
     "metadata": {},
     "output_type": "execute_result"
    }
   ],
   "source": [
    "testDB.shape"
   ]
  },
  {
   "cell_type": "code",
   "execution_count": 16,
   "metadata": {},
   "outputs": [
    {
     "data": {
      "text/plain": [
       "(121,)"
      ]
     },
     "execution_count": 16,
     "metadata": {},
     "output_type": "execute_result"
    }
   ],
   "source": []
  },
  {
   "cell_type": "code",
   "execution_count": 39,
   "metadata": {},
   "outputs": [
    {
     "name": "stdout",
     "output_type": "stream",
     "text": [
      "-> Running Horus...done\n"
     ]
    },
    {
     "name": "stderr",
     "output_type": "stream",
     "text": [
      "/Users/shaan/anaconda3/lib/python3.6/site-packages/ipykernel_launcher.py:248: RuntimeWarning: Mean of empty slice.\n",
      "/Users/shaan/anaconda3/lib/python3.6/site-packages/numpy/core/_methods.py:73: RuntimeWarning: invalid value encountered in true_divide\n",
      "  ret, rcount, out=ret, casting='unsafe', subok=False)\n",
      "/Users/shaan/anaconda3/lib/python3.6/site-packages/ipykernel_launcher.py:249: RuntimeWarning: Mean of empty slice.\n"
     ]
    }
   ],
   "source": [
    "(actualLoc, predictedLoc) = predict(wifiDB, testDB, nAP, nSamples)\n"
   ]
  },
  {
   "cell_type": "code",
   "execution_count": 41,
   "metadata": {},
   "outputs": [
    {
     "data": {
      "text/plain": [
       "array([[ 3.,  3.],\n",
       "       [ 3.,  4.],\n",
       "       [ 3.,  5.],\n",
       "       [ 3.,  6.],\n",
       "       [ 3.,  7.],\n",
       "       [ 3.,  8.],\n",
       "       [ 4.,  8.],\n",
       "       [ 5.,  8.],\n",
       "       [ 6.,  8.],\n",
       "       [ 7.,  8.],\n",
       "       [ 8.,  8.],\n",
       "       [ 8.,  7.],\n",
       "       [ 8.,  6.],\n",
       "       [ 8.,  5.],\n",
       "       [ 8.,  4.],\n",
       "       [ 8.,  3.],\n",
       "       [ 9.,  3.],\n",
       "       [10.,  3.],\n",
       "       [11.,  3.],\n",
       "       [12.,  3.],\n",
       "       [13.,  3.],\n",
       "       [14.,  3.],\n",
       "       [14.,  4.],\n",
       "       [14.,  5.],\n",
       "       [14.,  6.],\n",
       "       [14.,  7.],\n",
       "       [14.,  8.],\n",
       "       [14.,  9.],\n",
       "       [13., 10.],\n",
       "       [12., 11.],\n",
       "       [11., 12.],\n",
       "       [ 9., 12.],\n",
       "       [ 7., 12.],\n",
       "       [ 6., 12.],\n",
       "       [ 5., 12.],\n",
       "       [ 4., 13.],\n",
       "       [ 4., 14.],\n",
       "       [ 4., 15.],\n",
       "       [ 4., 16.],\n",
       "       [ 4., 17.],\n",
       "       [ 5., 18.],\n",
       "       [ 6., 18.],\n",
       "       [ 7., 18.],\n",
       "       [ 8., 18.],\n",
       "       [ 9., 18.],\n",
       "       [10., 18.],\n",
       "       [11., 18.],\n",
       "       [12., 18.],\n",
       "       [13., 18.],\n",
       "       [14., 18.],\n",
       "       [15., 18.],\n",
       "       [15., 17.],\n",
       "       [15., 16.],\n",
       "       [15., 15.],\n",
       "       [15., 14.],\n",
       "       [16., 13.],\n",
       "       [17., 12.],\n",
       "       [18., 11.],\n",
       "       [18., 10.],\n",
       "       [18.,  9.],\n",
       "       [18.,  8.],\n",
       "       [18.,  7.],\n",
       "       [18.,  6.]])"
      ]
     },
     "execution_count": 41,
     "metadata": {},
     "output_type": "execute_result"
    }
   ],
   "source": [
    "actualLoc"
   ]
  },
  {
   "cell_type": "code",
   "execution_count": 70,
   "metadata": {},
   "outputs": [
    {
     "name": "stdout",
     "output_type": "stream",
     "text": [
      "-> Loading files...done\n"
     ]
    }
   ],
   "source": [
    "(trainDB, testDB) = load_wifi_data(data_set, nSamples, nAP)\n",
    "\n",
    "new_means = np.zeros((121,5))\n",
    "test_means = np.zeros((63,5))\n",
    "trainDB = trainDB[:,1:]\n",
    "\n",
    "new_means[:,0] = trainDB[:,0]\n",
    "new_means[:,1] = trainDB[:,1]\n",
    "new_means[:,2] =trainDB[:,2:62].mean(axis=1)\n",
    "new_means[:,3] =trainDB[:,62:122].mean(axis=1)\n",
    "new_means[:,4] =trainDB[:,122:182].mean(axis=1)\n"
   ]
  },
  {
   "cell_type": "code",
   "execution_count": 72,
   "metadata": {},
   "outputs": [
    {
     "data": {
      "text/plain": [
       "array([[-44.4925    , -62.08033333, -43.36283333],\n",
       "       [-37.71616667, -57.11183333, -42.58916667],\n",
       "       [-41.84366667, -50.984     , -41.0375    ],\n",
       "       [-38.721     , -54.6175    , -40.62983333],\n",
       "       [-38.53133333, -59.67066667, -43.269     ],\n",
       "       [-38.62083333, -58.22133333, -41.91283333],\n",
       "       [-43.02433333, -62.26366667, -43.54583333],\n",
       "       [-41.87616667, -60.21233333, -42.93266667],\n",
       "       [-40.70483333, -55.09766667, -42.10833333],\n",
       "       [-40.88416667, -61.81616667, -42.7525    ],\n",
       "       [-44.54133333, -56.69833333, -42.456     ],\n",
       "       [-43.05866667, -57.36166667, -43.08916667],\n",
       "       [-43.02716667, -61.58766667, -43.762     ],\n",
       "       [-31.37833333, -55.42516667, -39.7315    ],\n",
       "       [-41.27216667, -59.69116667, -44.1585    ],\n",
       "       [-48.72266667, -55.8775    , -42.32633333],\n",
       "       [-49.86766667, -56.3295    , -41.946     ],\n",
       "       [-41.91066667, -58.7875    , -43.1515    ],\n",
       "       [-37.62316667, -53.97033333, -40.606     ],\n",
       "       [-52.31333333, -59.62566667, -33.29283333],\n",
       "       [-50.72083333, -57.787     , -30.76616667],\n",
       "       [-42.9715    , -48.824     , -37.0995    ],\n",
       "       [-48.75666667, -49.30416667, -34.9555    ],\n",
       "       [-47.3555    , -63.40316667, -39.87333333],\n",
       "       [-50.35983333, -53.381     , -35.13916667],\n",
       "       [-49.99266667, -51.5765    , -36.45266667],\n",
       "       [-44.99      , -44.43783333, -35.7885    ],\n",
       "       [-50.18866667, -56.84083333, -24.74716667],\n",
       "       [-51.5385    , -58.81333333, -31.67566667],\n",
       "       [-47.47466667, -49.25466667, -35.1455    ],\n",
       "       [-40.79966667, -51.80016667, -36.75766667],\n",
       "       [-34.58566667, -56.264     , -39.32316667],\n",
       "       [-31.33216667, -57.23483333, -38.557     ],\n",
       "       [-38.83083333, -54.77416667, -38.234     ],\n",
       "       [-46.01      , -49.89283333, -33.51666667],\n",
       "       [-38.703     , -59.17383333, -39.61866667],\n",
       "       [-41.40583333, -56.244     , -38.47283333],\n",
       "       [-46.6035    , -41.32033333, -36.79683333],\n",
       "       [-48.18366667, -44.34533333, -36.9675    ],\n",
       "       [-41.76066667, -56.30516667, -36.30033333],\n",
       "       [-37.664     , -57.83      , -37.71416667],\n",
       "       [-50.38183333, -59.25283333, -25.24083333],\n",
       "       [-44.54783333, -61.1415    , -40.73383333],\n",
       "       [-44.40966667, -51.64316667, -35.0805    ],\n",
       "       [-50.04266667, -55.35233333, -31.876     ],\n",
       "       [-51.01516667, -55.07233333, -34.3695    ],\n",
       "       [-43.0075    , -52.99766667, -36.1535    ],\n",
       "       [-49.4375    , -48.927     , -38.05166667],\n",
       "       [-51.10583333, -57.95383333, -28.3065    ],\n",
       "       [-48.62916667, -62.46183333, -41.14066667],\n",
       "       [-48.99966667, -62.03916667, -36.78666667],\n",
       "       [-47.67633333, -45.95033333, -40.06183333],\n",
       "       [-40.806     , -59.80933333, -41.4685    ],\n",
       "       [-44.309     , -60.18916667, -39.5345    ],\n",
       "       [-46.73983333, -57.60883333, -31.18433333],\n",
       "       [-47.438     , -56.47766667, -27.984     ],\n",
       "       [-43.95183333, -59.0575    , -36.3935    ],\n",
       "       [-43.07683333, -62.063     , -41.3755    ],\n",
       "       [-45.9815    , -42.09566667, -39.9565    ],\n",
       "       [-49.22233333, -61.20733333, -33.73383333],\n",
       "       [-47.99483333, -60.94216667, -38.71733333],\n",
       "       [-49.91316667, -58.50016667, -27.8835    ],\n",
       "       [-47.57966667, -61.773     , -36.8225    ],\n",
       "       [-47.847     , -42.49866667, -37.401     ],\n",
       "       [-41.24266667, -49.3615    , -39.8915    ],\n",
       "       [-42.95466667, -61.943     , -39.7515    ],\n",
       "       [-49.21083333, -54.64816667, -27.70116667],\n",
       "       [-44.99183333, -55.20783333, -33.661     ],\n",
       "       [-44.22316667, -56.37283333, -34.70766667],\n",
       "       [-48.34983333, -56.4325    , -25.50933333],\n",
       "       [-41.82433333, -59.88616667, -39.271     ],\n",
       "       [-43.92916667, -44.91116667, -39.51083333],\n",
       "       [-49.17066667, -48.036     , -39.70483333],\n",
       "       [-47.752     , -61.306     , -39.02116667],\n",
       "       [-49.42333333, -59.38483333, -31.60816667],\n",
       "       [-49.55216667, -62.624     , -40.43216667],\n",
       "       [-48.663     , -57.785     , -25.66883333],\n",
       "       [-44.9045    , -61.72183333, -39.054     ],\n",
       "       [-41.694     , -47.61133333, -38.53116667],\n",
       "       [-41.8495    , -61.12816667, -41.9555    ],\n",
       "       [-45.97733333, -59.891     , -36.1975    ],\n",
       "       [-48.27916667, -53.30366667, -31.94083333],\n",
       "       [-49.33216667, -53.02183333, -34.72566667],\n",
       "       [-46.19183333, -57.299     , -34.845     ],\n",
       "       [-49.064     , -49.8625    , -40.51433333],\n",
       "       [-38.81      , -52.93516667, -39.6475    ],\n",
       "       [-46.04816667, -61.57916667, -40.22283333],\n",
       "       [-49.13783333, -56.07316667, -20.4985    ],\n",
       "       [-49.148     , -61.94483333, -38.4445    ],\n",
       "       [-48.18633333, -58.09633333, -30.74516667],\n",
       "       [-49.795     , -64.77116667, -40.51933333],\n",
       "       [-38.554     , -60.10316667, -41.407     ],\n",
       "       [-44.262     , -40.6385    , -38.303     ],\n",
       "       [-47.07766667, -52.579     , -30.45016667],\n",
       "       [-46.27283333, -60.4485    , -38.35133333],\n",
       "       [-46.791     , -61.4945    , -39.444     ],\n",
       "       [-46.03966667, -54.51116667, -32.2135    ],\n",
       "       [-46.263     , -34.81416667, -37.91783333],\n",
       "       [-34.455     , -57.9505    , -41.50083333],\n",
       "       [-51.59516667, -57.6595    , -32.83      ],\n",
       "       [-47.714     , -57.95066667, -33.70416667],\n",
       "       [-46.60166667, -52.20033333, -42.55783333],\n",
       "       [-41.3505    , -62.37833333, -42.12616667],\n",
       "       [-45.93983333, -55.23933333, -43.30683333],\n",
       "       [-47.38483333, -56.054     , -42.94016667],\n",
       "       [-37.5695    , -58.96366667, -43.38016667],\n",
       "       [-48.16083333, -53.216     , -41.81316667],\n",
       "       [-24.95      , -57.999     , -40.55016667],\n",
       "       [-41.7395    , -61.52833333, -44.67483333],\n",
       "       [-49.39433333, -53.43183333, -43.26183333],\n",
       "       [-31.235     , -59.07816667, -41.671     ],\n",
       "       [-47.8075    , -49.073     , -40.349     ],\n",
       "       [-31.246     , -56.75283333, -41.83166667],\n",
       "       [-34.45233333, -55.81883333, -40.94583333],\n",
       "       [-49.20283333, -52.93466667, -40.77916667],\n",
       "       [-45.06466667, -52.46033333, -41.10383333],\n",
       "       [-34.49316667, -59.08633333, -42.03433333],\n",
       "       [-46.269     , -48.09733333, -42.02783333],\n",
       "       [-44.20933333, -48.45983333, -40.82033333],\n",
       "       [-38.66516667, -60.99116667, -42.83983333],\n",
       "       [-43.1425    , -53.7905    , -41.78816667]])"
      ]
     },
     "execution_count": 72,
     "metadata": {},
     "output_type": "execute_result"
    }
   ],
   "source": [
    "new_means[:,2:]"
   ]
  },
  {
   "cell_type": "code",
   "execution_count": null,
   "metadata": {},
   "outputs": [],
   "source": []
  }
 ],
 "metadata": {
  "kernelspec": {
   "display_name": "Python 3",
   "language": "python",
   "name": "python3"
  },
  "language_info": {
   "codemirror_mode": {
    "name": "ipython",
    "version": 3
   },
   "file_extension": ".py",
   "mimetype": "text/x-python",
   "name": "python",
   "nbconvert_exporter": "python",
   "pygments_lexer": "ipython3",
   "version": "3.6.5"
  }
 },
 "nbformat": 4,
 "nbformat_minor": 2
}
