{
 "cells": [
  {
   "cell_type": "code",
   "execution_count": 1,
   "metadata": {},
   "outputs": [
    {
     "name": "stdout",
     "output_type": "stream",
     "text": [
      "Loading training data from ./real_data/training/\n"
     ]
    },
    {
     "name": "stderr",
     "output_type": "stream",
     "text": [
      "/Users/shaan/anaconda3/lib/python3.6/site-packages/ipykernel_launcher.py:83: RuntimeWarning: Mean of empty slice\n",
      "/Users/shaan/anaconda3/lib/python3.6/site-packages/scipy/stats/_distn_infrastructure.py:1652: RuntimeWarning: divide by zero encountered in double_scalars\n",
      "  x = np.asarray((x - loc)/scale, dtype=dtyp)\n",
      "/Users/shaan/anaconda3/lib/python3.6/site-packages/scipy/stats/_distn_infrastructure.py:1652: RuntimeWarning: invalid value encountered in double_scalars\n",
      "  x = np.asarray((x - loc)/scale, dtype=dtyp)\n"
     ]
    },
    {
     "name": "stdout",
     "output_type": "stream",
     "text": [
      "done now\n",
      "done now\n",
      "done now\n",
      "[array([[6.59973983, 5.0841557 ]]), array([[5.21988699, 3.5839244 ]]), array([[5.2613543 , 3.66357822]])]\n"
     ]
    }
   ],
   "source": [
    "import os\n",
    "import pandas as pd\n",
    "import numpy as np\n",
    "import time\n",
    "import q4functions as q4funcs\n",
    "import progressbar\n",
    "\n",
    "def predict(train, test, n_ap):\n",
    "    pass\n",
    "\n",
    "\n",
    "def get_training_data(path, calculate_means_and_variances=True):\n",
    "    ''' Loads in training data from path argument, and returns in matrix for with mac addresses as columns.\n",
    "        If calculate_means_and_variances=True the entries are the means and standard deviations of the readings,\n",
    "        else just a list of all samples is returned\n",
    "    '''\n",
    "    print(f'Loading training data from {path}')\n",
    "    time.sleep(0.2)\n",
    "    locations_df = pd.read_csv(os.path.join(path, 'location.txt'), header=None)\n",
    "    locations_df.columns = ['x', 'y']\n",
    "    features_path = os.path.join(path, 'wifi_signal')\n",
    "    feature_csvs = os.listdir(features_path)\n",
    "    train_df = pd.DataFrame()\n",
    "    for feature_csv in feature_csvs:\n",
    "        location = np.array(locations_df.iloc[int(feature_csv[6:].split('.')[0]) - 1])\n",
    "        #         corresponding_location = locations_df[]\n",
    "        feature_df = pd.read_csv(os.path.join(features_path, feature_csv), header=None)\n",
    "        feature_df.columns = ['timestamp', 'router_name', 'mac_address', 'channel', 'RSSI']\n",
    "        unique_mac_addresses = list(set(feature_df['mac_address']))\n",
    "        location_dict = {'x': location[0], 'y': location[1]}\n",
    "\n",
    "        for unique_mac_address in unique_mac_addresses:\n",
    "            relevant_entries = feature_df.iloc[np.where(feature_df['mac_address'] == unique_mac_address)]\n",
    "            rssi_values = relevant_entries['RSSI'] #+ 0.5 * np.random.random(size=len(relevant_entries))\n",
    "            if calculate_means_and_variances:\n",
    "                #             add artificial noise to avoid 0 standard deviation\n",
    "                mean = rssi_values.mean()\n",
    "                std_dv = rssi_values.std()\n",
    "                means_and_stdevs = [mean, std_dv]\n",
    "                location_dict[unique_mac_address] = means_and_stdevs\n",
    "            else:\n",
    "                location_dict[unique_mac_address] = rssi_values\n",
    "        train_df = train_df.append(location_dict, ignore_index=True)\n",
    "    train_df = train_df.reindex(columns=['x', 'y'] + [col for col in train_df.columns if col not in ['x', 'y']])\n",
    "    return train_df\n",
    "\n",
    "\n",
    "def get_test_data(path):\n",
    "    locations_df = pd.read_csv(os.path.join(path, 'location.txt'), header=None)\n",
    "    features_path = os.path.join(path, 'wifi_signal')\n",
    "    feature_csvs = os.listdir(features_path)\n",
    "    test_df = pd.DataFrame()\n",
    "    for feature_csv in feature_csvs:\n",
    "\n",
    "        feature_df = pd.read_csv(os.path.join(features_path, feature_csv))\n",
    "        feature_df.columns = ['timestamp', 'router_name', 'mac_address', 'channel', 'RSSI']\n",
    "        unique_mac_addresses = list(set(feature_df['mac_address']))\n",
    "        location_dict = {'x': 0, 'y': 0}\n",
    "\n",
    "        for unique_mac_address in unique_mac_addresses:\n",
    "            relevant_entries = feature_df.iloc[np.where(feature_df['mac_address'] == unique_mac_address)]\n",
    "            rssi_values = relevant_entries['RSSI']\n",
    "            location_dict[unique_mac_address] = rssi_values\n",
    "        test_df = test_df.append(location_dict, ignore_index=True)\n",
    "    test_df = test_df.reindex(columns=['x', 'y'] + [col for col in test_df.columns if col not in ['x', 'y']])\n",
    "    return test_df\n",
    "\n",
    "\n",
    "def make_predictions(train_data, test_data):\n",
    "    locations = []\n",
    "    for i in range(len(test_data)):\n",
    "        test_features = pd.DataFrame(test_data.iloc[i]).transpose()\n",
    "        #print(test_features)\n",
    "        \n",
    "        \n",
    "        test_mac_addresses = set(test_features.columns[2:])\n",
    "        train_mac_addresses = set(train_data.columns[2:])\n",
    "        mutual_mac_addresses = list(test_mac_addresses.intersection(train_mac_addresses))\n",
    "        cropped_test_df = test_features[['x', 'y'] + mutual_mac_addresses]\n",
    "\n",
    "        #cropped_test_df = pd.DataFrame(cropped_test_df.apply(lambda x: np.mean(x[0]))).transpose()\n",
    "        for i in range(len(cropped_test_df.columns[2:])):\n",
    "            cropped_test_df.iloc[0,2+i] = np.nanmean(cropped_test_df.iloc[0,2+i])\n",
    "        cropped_train_df = train_data[['x', 'y'] + mutual_mac_addresses]\n",
    "\n",
    "        _, location = q4funcs.predict(cropped_train_df.values, cropped_test_df.values, len(cropped_test_df.columns[2:]))\n",
    "        #print(location)\n",
    "        locations.append(location)\n",
    "\n",
    "    print(locations)\n",
    "    return locations\n",
    "\n",
    "\n",
    "def preprocess_training_data(*args):\n",
    "    pass\n",
    "\n",
    "\n",
    "training_path = \"./real_data/training/\"\n",
    "test_path = \"./real_data/test/\"\n",
    "\n",
    "# get_training_data(training_path,calculate_means_and_variances=True).head()\n",
    "test_data = get_test_data(test_path)\n",
    "train_data = get_training_data(training_path)\n",
    "\n",
    "locations = make_predictions(train_data, test_data)\n",
    "\n",
    "\n",
    "# b = b.values"
   ]
  },
  {
   "cell_type": "code",
   "execution_count": 2,
   "metadata": {},
   "outputs": [
    {
     "data": {
      "text/plain": [
       "[array([[6.59973983, 5.0841557 ]]),\n",
       " array([[5.21988699, 3.5839244 ]]),\n",
       " array([[5.2613543 , 3.66357822]])]"
      ]
     },
     "execution_count": 2,
     "metadata": {},
     "output_type": "execute_result"
    }
   ],
   "source": [
    "locations"
   ]
  },
  {
   "cell_type": "code",
   "execution_count": 3,
   "metadata": {},
   "outputs": [],
   "source": [
    "locations = np.array(locations)"
   ]
  },
  {
   "cell_type": "code",
   "execution_count": 4,
   "metadata": {},
   "outputs": [
    {
     "data": {
      "text/plain": [
       "array([[6.59973983, 5.0841557 ],\n",
       "       [5.21988699, 3.5839244 ],\n",
       "       [5.2613543 , 3.66357822]])"
      ]
     },
     "execution_count": 4,
     "metadata": {},
     "output_type": "execute_result"
    }
   ],
   "source": [
    "locations[:,0,:]"
   ]
  },
  {
   "cell_type": "code",
   "execution_count": 5,
   "metadata": {},
   "outputs": [],
   "source": [
    "np.savetxt(\"test_locations.txt\", locations[:,0,:], delimiter=\",\")"
   ]
  },
  {
   "cell_type": "code",
   "execution_count": null,
   "metadata": {},
   "outputs": [],
   "source": []
  }
 ],
 "metadata": {
  "kernelspec": {
   "display_name": "Python 3",
   "language": "python",
   "name": "python3"
  },
  "language_info": {
   "codemirror_mode": {
    "name": "ipython",
    "version": 3
   },
   "file_extension": ".py",
   "mimetype": "text/x-python",
   "name": "python",
   "nbconvert_exporter": "python",
   "pygments_lexer": "ipython3",
   "version": "3.6.5"
  }
 },
 "nbformat": 4,
 "nbformat_minor": 2
}
