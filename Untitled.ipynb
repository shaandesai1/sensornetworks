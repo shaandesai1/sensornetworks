{
 "cells": [
  {
   "cell_type": "code",
   "execution_count": 1,
   "metadata": {},
   "outputs": [],
   "source": [
    "#\n",
    "# Implements the HORUS probabilistic WiFi Localization system\n",
    "# ( Cyber Physical System Group )\n",
    "# Jan. 2019\n",
    "# Chris Xiaoxuan Lu\n",
    "#\n",
    "\n",
    "import numpy as np\n",
    "import os\n",
    "import glob\n",
    "import sys\n",
    "import matplotlib.pyplot as plt\n",
    "from statsmodels.distributions.empirical_distribution import ECDF\n",
    "from scipy.stats import norm\n",
    "import argparse\n",
    "import csv\n",
    "\n",
    "def load_real_csv(csv_file):\n",
    "  # EXAMPLE: \"2017-06-22_15-02-47_wifi.csv\"\n",
    "\n",
    "  # 1.498139656195E9,eduroam,00:81:c4:85:07:a0,2462,-60\n",
    "  # timestamp, ssid, mac, channel (ignore), rss\n",
    "  return list((ssid, mac, rss) for timestamp, ssid, mac, channel, rss in csv.reader(open(csv_file, 'r')))\n",
    "\n",
    "\n",
    "# TODO: Implement a fingerprinting algorithm that predicts the location given the testset\n"
   ]
  },
  {
   "cell_type": "code",
   "execution_count": 2,
   "metadata": {},
   "outputs": [],
   "source": [
    "import pandas as pd"
   ]
  },
  {
   "cell_type": "code",
   "execution_count": 4,
   "metadata": {},
   "outputs": [],
   "source": [
    "locs_train = pd.read_csv('real_data/training/location.txt')"
   ]
  },
  {
   "cell_type": "code",
   "execution_count": 10,
   "metadata": {},
   "outputs": [],
   "source": [
    "x_train = [pd.read_csv('real_data/training/wifi_signal/train_'+str(i)+'.csv',header=None) for i in range(1,16)]"
   ]
  },
  {
   "cell_type": "code",
   "execution_count": 30,
   "metadata": {},
   "outputs": [
    {
     "name": "stderr",
     "output_type": "stream",
     "text": [
      "/Users/shaan/anaconda3/lib/python3.6/site-packages/ipykernel_launcher.py:1: FutureWarning: \n",
      "Passing list-likes to .loc or [] with any missing label will raise\n",
      "KeyError in the future, you can use .reindex() as an alternative.\n",
      "\n",
      "See the documentation here:\n",
      "https://pandas.pydata.org/pandas-docs/stable/indexing.html#deprecate-loc-reindex-listlike\n",
      "  \"\"\"Entry point for launching an IPython kernel.\n"
     ]
    },
    {
     "data": {
      "text/plain": [
       "e8:de:27:70:02:b4     NaN\n",
       "2                   -44.0\n",
       "Name: 4, dtype: float64"
      ]
     },
     "execution_count": 30,
     "metadata": {},
     "output_type": "execute_result"
    }
   ],
   "source": [
    "x_train[2].loc[['e8:de:27:70:02:b4',2]][4]"
   ]
  },
  {
   "cell_type": "code",
   "execution_count": null,
   "metadata": {},
   "outputs": [],
   "source": []
  }
 ],
 "metadata": {
  "kernelspec": {
   "display_name": "Python 3",
   "language": "python",
   "name": "python3"
  },
  "language_info": {
   "codemirror_mode": {
    "name": "ipython",
    "version": 3
   },
   "file_extension": ".py",
   "mimetype": "text/x-python",
   "name": "python",
   "nbconvert_exporter": "python",
   "pygments_lexer": "ipython3",
   "version": "3.6.5"
  }
 },
 "nbformat": 4,
 "nbformat_minor": 2
}
