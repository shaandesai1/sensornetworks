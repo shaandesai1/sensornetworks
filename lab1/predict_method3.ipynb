{
 "cells": [
  {
   "cell_type": "code",
   "execution_count": 156,
   "metadata": {},
   "outputs": [],
   "source": [
    "import numpy as np\n",
    "import os\n",
    "import glob\n",
    "import sys\n",
    "import matplotlib.pyplot as plt\n",
    "from statsmodels.distributions.empirical_distribution import ECDF\n",
    "from scipy.stats import norm\n",
    "import argparse\n",
    "import csv\n",
    "\n",
    "#\n",
    "# Implements the HORUS probabilistic WiFi Localization system\n",
    "# ( Mobile and Sensor Networks course - University of Oxford )\n",
    "# April 2016\n",
    "#\n",
    "\n",
    "def init():\n",
    "    print(\"\")\n",
    "    print ('*' * 60)\n",
    "    print (' The Horus Localization System')\n",
    "    print (\" Sensor Networks Course - University of Oxford\")\n",
    "    print ('*' * 60)\n",
    "    print (\"\")\n",
    "    print (\"\")\n",
    "    return\n",
    "\n",
    "\n",
    "# Function to load the wifi RSS data\n",
    "def load_wifi_data(data_folder, n_samples, n_ap):\n",
    "    \"\"\"\n",
    "    :param data_folder: Location of WiFi RSS data\n",
    "    :param n_samples: Number of RSS samples collected for each location\n",
    "    :param n_ap: Number of access points\n",
    "    :return: train and test wifi databases\n",
    "    \"\"\"\n",
    "    current_location = os.getcwd()\n",
    "    sys.stdout.write(\"-> Loading files...\")\n",
    "\n",
    "    train_path = data_folder + \"/\" + \"wifiData/\"\n",
    "    test_path = data_folder + \"/\" + \"testWifiData/\"\n",
    "\n",
    "    # We are going to examine two cases with 3 and 5 Access Points (APs)\n",
    "    if n_ap == 3:\n",
    "        ap_index = [1, 2, 3]\n",
    "    else:\n",
    "        ap_index = [1, 2, 3, 4, 5]\n",
    "\n",
    "    # We read the wifi RSS collected in the training phase to built the Wifi database\n",
    "    os.chdir(train_path)\n",
    "    train_files = glob.glob(\"*.txt\")\n",
    "    n_locations = len(train_files)\n",
    "    wifi_database = np.zeros((n_locations, (n_ap * n_samples) + 3))\n",
    "    ap_name = \"AP_\"\n",
    "\n",
    "    file_count = -1\n",
    "    for f in train_files:\n",
    "        file_count += 1\n",
    "\n",
    "        if n_ap == 3:\n",
    "            ap_counter = [0, 0, 0]\n",
    "        else:\n",
    "            ap_counter = [0, 0, 0, 0, 0]\n",
    "\n",
    "        fid = open(f, 'r')\n",
    "        wifi_database[file_count, 0] = file_count\n",
    "        first_line = 0\n",
    "        for line in fid:\n",
    "            data = line.split()\n",
    "            if first_line == 0:\n",
    "                first_line += 1\n",
    "                wifi_database[file_count, 1] = int(data[0])\n",
    "                wifi_database[file_count, 2] = int(data[1])\n",
    "            else:\n",
    "                for idx in range(1, n_ap + 1):\n",
    "                    if data[1] == (ap_name + str(idx)):\n",
    "                        ap_counter[idx - 1] += 1\n",
    "                        db_index = int((n_samples * (ap_index[idx - 1] - 1)) + 2 + ap_counter[idx - 1])\n",
    "                        wifi_database[file_count, db_index] = float(data[2])\n",
    "    os.chdir(\"../..\")\n",
    "\n",
    "    # Now we load the test points. Wifi data collected at unknown locations.\n",
    "    os.chdir(test_path)\n",
    "    test_files = glob.glob(\"*.txt\")\n",
    "    test_files.sort()\n",
    "    n_locations = len(test_files)\n",
    "    test_db = np.zeros((n_locations, (n_ap * (n_samples - 10)) + 3))\n",
    "\n",
    "    file_count = -1\n",
    "    for f in test_files:\n",
    "        file_count += 1\n",
    "\n",
    "        if n_ap == 3:\n",
    "            ap_counter = [0, 0, 0]\n",
    "        else:\n",
    "            ap_counter = [0, 0, 0, 0, 0]\n",
    "\n",
    "        fid = open(f, 'r')\n",
    "        test_db[file_count, 0] = file_count\n",
    "        first_line = 0\n",
    "        for line in fid:\n",
    "            data = line.split()\n",
    "            if first_line == 0:\n",
    "                first_line += 1\n",
    "                test_db[file_count, 1] = int(data[0])\n",
    "                test_db[file_count, 2] = int(data[1])\n",
    "            else:\n",
    "                for idx in range(1, n_ap + 1):\n",
    "                    if data[1] == (ap_name + str(idx)):\n",
    "                        ap_counter[idx - 1] += 1\n",
    "                        db_index = int(((n_samples - 10) * (ap_index[idx - 1] - 1)) + 2 + ap_counter[idx - 1])\n",
    "                        test_db[file_count, db_index] = float(data[2])\n",
    "\n",
    "    sys.stdout.write(\"done\\n\")\n",
    "    \n",
    "    os.chdir(current_location)\n",
    "    return wifi_database, test_db\n",
    "\n",
    "\n",
    "# Visualize fingerprint locations and locations of APs\n",
    "def show_fingerprints(train_db, n_ap):\n",
    "    \"\"\"\n",
    "    :param train_db: RSS points collected at known locations\n",
    "    :param n_ap: Number of APs\n",
    "    :return: null\n",
    "    \"\"\"\n",
    "    sys.stdout.write(\"-> Displaying fingerprints...\")\n",
    "\n",
    "    if n_ap == 3:\n",
    "        ap_loc = np.array([[6, 6], [8, 16], [18, 14]])\n",
    "    else:\n",
    "        ap_loc = np.array([[6, 6], [8, 16], [18, 14], [16, 4], [12, 10]])\n",
    "\n",
    "    plt.figure()\n",
    "    plt.plot(train_db[:, 1], train_db[:, 2], 'co', markersize=17)\n",
    "    plt.plot(ap_loc[:, 0], ap_loc[:, 1], 'b*', markersize=10)\n",
    "    major_ticks = np.arange(-2, 22, 2)\n",
    "    axes = plt.gca()\n",
    "    axes.set_xlim([-2, 22])\n",
    "    axes.set_ylim([-2, 22])\n",
    "    axes.set_xticks(major_ticks)\n",
    "    axes.set_yticks(major_ticks)\n",
    "    plt.grid(True)\n",
    "    plt.xlabel(\"X -> m\")\n",
    "    plt.ylabel(\"Y -> m\")\n",
    "    plt.title(\"Cyan points: fingerprint locations, Blue points: Access Points\")\n",
    "    plt.show(block=False)\n",
    "    sys.stdout.write(\"done\\n\")\n",
    "\n",
    "    return\n",
    "\n",
    "\n",
    "# Fit a normal distribution to the RSS data\n",
    "def fit_data(train_db, n_samples, n_ap):\n",
    "    \"\"\"\n",
    "    :param train_db: RSS points collected at known locations\n",
    "    :param n_samples: Number of RSS samples per location\n",
    "    :param n_ap: Number of access points\n",
    "    :return: Wifi fingerprint database; We approximate the RSS at each location with a Gaussian\n",
    "    \"\"\"\n",
    "\n",
    "    sys.stdout.write(\"-> Modeling RSS with Gaussian dist...\")\n",
    "\n",
    "    n_loc = len(train_db)\n",
    "\n",
    "    # Initialize Wifi database\n",
    "    wifi_db = np.zeros((n_loc, 3 + (n_ap * 2)))\n",
    "\n",
    "    for i in range(0, n_loc):\n",
    "        wifi_db[i, 0] = i\n",
    "        wifi_db[i, 1] = train_db[i, 1]\n",
    "        wifi_db[i, 2] = train_db[i, 2]\n",
    "        for j in range(0, n_ap):\n",
    "            ind_start = int((n_samples * j) + 3)\n",
    "            ind_end = int((j + 1) * n_samples + 3)\n",
    "            dat = train_db[i, ind_start:ind_end]\n",
    "            [mu, sigma] = norm.fit(dat)\n",
    "            wifi_db[i, (j * 2) + 3] = mu\n",
    "            wifi_db[i, (j * 2) + 4] = sigma\n",
    "\n",
    "    sys.stdout.write(\"done\\n\")\n",
    "    return wifi_db\n",
    "\n",
    "\n",
    "# Plot Wifi RSS histogram per location - Fit a  Gaussian Dist to the data\n",
    "def plot_histogram(train_db, location, n_ap, n_samples):\n",
    "    \"\"\"\n",
    "    :param train_db: RSS points collected at known locations\n",
    "    :param location: Location to plot the RSS histogram\n",
    "    :param n_ap: Number of access points\n",
    "    :param n_samples: Number of RSS samples per location\n",
    "    :return: null\n",
    "    \"\"\"\n",
    "\n",
    "    sys.stdout.write(\"-> Visualizing histograms...\")\n",
    "\n",
    "    if (location < 0) or (location >= len(train_db)):\n",
    "        location = 0\n",
    "\n",
    "    # Extract the RSS data from :param location\n",
    "    for i in range(0, n_ap):\n",
    "        ind_start = int((n_samples * i) + 3)\n",
    "        ind_end = int((i + 1) * n_samples + 3)\n",
    "        dat = train_db[location, ind_start:ind_end]\n",
    "\n",
    "        # Plot the RSS histogram\n",
    "        plt.figure()\n",
    "        n_bins = int(round(np.sqrt(len(dat))))\n",
    "        plt.hist(dat, bins=n_bins, normed=True, alpha=0.6, color='g')\n",
    "\n",
    "        # Approximate the histogram with a Gaussian distribution\n",
    "        [mu, sigma] = norm.fit(dat)\n",
    "        x = np.linspace(mu - 4 * sigma, mu + 4 * sigma, 500)\n",
    "        y = norm.pdf(x, mu, sigma)\n",
    "        plt.plot(x, y, 'r-', linewidth=2)\n",
    "        plt.xlabel('Wifi RSS -> dBm')\n",
    "        plt.ylabel('Frequency')\n",
    "        plt.title('RSS histogram of AP=%d , Norm(%.2f,%.2f)' % (i + 1, mu, sigma))\n",
    "        plt.grid(True)\n",
    "        plt.show(block=False)\n",
    "\n",
    "    sys.stdout.write(\"done\\n\")\n",
    "    return\n",
    "lossy = []\n",
    "\n",
    "# The Horus probabilistic localization system\n",
    "def predict(wifi_db, test_db,n_ap, samples_array):\n",
    "    \"\"\"\n",
    "    :param wifi_db: The Wifi database\n",
    "    :param test_db: Wifi RSS points an the unknown locations\n",
    "    :param n_ap: Number of APs\n",
    "    :param n_samples: Samples per location\n",
    "    :return: The estimated locations\n",
    "    \"\"\"\n",
    "\n",
    "    \n",
    "    sys.stdout.write(\"-> Running Horus...\")\n",
    "\n",
    "    predicted_loc = np.zeros((len(test_db), 2))\n",
    "    actual_loc = test_db[:, 1:3]\n",
    "\n",
    "    small_val = 5\n",
    "    # - - - - WRITE YOUR CODE HERE - - - - -\n",
    "\n",
    "    \n",
    "    AP=np.zeros((n_ap,wifi_db.shape[0],2))\n",
    "    for i in range(n_ap):\n",
    "        AP[i,:,:]= wifi_db[:,(2*i+3):(2*i+5)]\n",
    "    \n",
    "    for i in range(test_db.shape[0]):\n",
    "        \n",
    "        loss = np.zeros(AP.shape[1])\n",
    "        \n",
    "        for j in range(AP.shape[1]):\n",
    "            \n",
    "            lossall = [log_loss(test_db[i,samples_array[:k].sum()+3:samples_array[:k+1].sum()+3].mean(),AP[k,j,0],AP[k,j,1]) for k in range(n_ap)] \n",
    "            loss[j] = sum(lossall)/sum(~np.isnan(lossall))         \n",
    "        \n",
    "        #print(np.argmax(loss))\n",
    "        loss = np.exp(loss)\n",
    "        \n",
    "        loss = loss/loss.sum()\n",
    "        \n",
    "        \n",
    "        #new_x = (wifi_db[:,1]*loss).sum()\n",
    "        #new_y = (wifi_db[:,2]*loss).sum()\n",
    "        thresh = sorted(loss)[-small_val]\n",
    "        loss[loss<thresh] = 0\n",
    "        \n",
    "        loss = loss/loss.sum()\n",
    "        \n",
    "        if i == 30:\n",
    "            lossy.append(loss)\n",
    "        \n",
    "        \n",
    "        \n",
    "        \n",
    "        \n",
    "        new_x = (wifi_db[:,1]*loss).sum()\n",
    "        new_y = (wifi_db[:,2]*loss).sum()\n",
    "        \n",
    "        \n",
    "        \n",
    "        \n",
    "        \n",
    "    \n",
    "        \n",
    "        \n",
    "        #result = np.argmax(loss)\n",
    "        #predicted_loc[i,:] = wifi_db[result,1:3]\n",
    "        predicted_loc[i,:] = np.array([new_x,new_y])\n",
    "    \n",
    "    # - - - - - - - - - - - - - - - - - - - -\n",
    "\n",
    "    sys.stdout.write(\"done\\n\")\n",
    "    return actual_loc, predicted_loc\n",
    "\n",
    "# Plot the actual and estimated locations\n",
    "def plot_path(actual_loc, predicted_loc, n_ap):\n",
    "    \"\"\"\n",
    "    :param actual_loc: Actual locations\n",
    "    :param predicted_loc: Estimated locations\n",
    "    :param n_ap: Number of APs\n",
    "    :return: null\n",
    "    \"\"\"\n",
    "    sys.stdout.write(\"-> Visualizing estimated trajectory...\")\n",
    "\n",
    "    if n_ap == 3:\n",
    "        ap_loc = np.array([[6, 6], [8, 16], [18, 14]])\n",
    "    else:\n",
    "        ap_loc = np.array([[6, 6], [8, 16], [18, 14], [16, 4], [12, 10]])\n",
    "\n",
    "    plt.figure()\n",
    "    plt.plot(ap_loc[:, 0], ap_loc[:, 1], 'b*', markersize=15)\n",
    "    plt.plot(actual_loc[:, 0], actual_loc[:, 1], 'go-', linewidth=2)\n",
    "    plt.plot(predicted_loc[:, 0], predicted_loc[:, 1], 'ro-', linewidth=2)\n",
    "\n",
    "    major_ticks = np.arange(-2, 22, 2)\n",
    "\n",
    "    axes = plt.gca()\n",
    "    axes.set_xlim([-2, 22])\n",
    "    axes.set_ylim([-2, 22])\n",
    "    axes.set_xticks(major_ticks)\n",
    "    axes.set_yticks(major_ticks)\n",
    "    plt.xlabel('X -> m')\n",
    "    plt.ylabel('Y -> m')\n",
    "    plt.title('Green line = actual path , Red line = estimated path, Blue points = AP loc')\n",
    "    plt.grid(True)\n",
    "    plt.savefig('path1.svg',bbox_inches='tight')\n",
    "\n",
    "    plt.show(block=False)\n",
    "\n",
    "    \n",
    "    sys.stdout.write(\"done\\n\")\n",
    "    return\n",
    "\n",
    "\n",
    "# Calculate and plot the localization error\n",
    "def plot_error(actual_loc, predicted_loc):\n",
    "    \"\"\"\n",
    "    :param actual_loc: Actual locations\n",
    "    :param predicted_loc: Estimated Locations\n",
    "    :return: null\n",
    "    \"\"\"\n",
    "\n",
    "    sys.stdout.write(\"-> Calculating localization error...\")\n",
    "\n",
    "    err = np.zeros((1, len(actual_loc)))\n",
    "    for i in range(0, len(actual_loc)):\n",
    "        err[0, i] = np.sqrt((actual_loc[i, 0] - predicted_loc[i, 0]) ** 2 +\n",
    "                            (actual_loc[i, 1] - predicted_loc[i, 1]) ** 2)\n",
    "\n",
    "    mean_err = np.mean(err)\n",
    "\n",
    "    ecdf = ECDF(err[0, :])\n",
    "    plt.figure()\n",
    "    plt.plot(ecdf.x, ecdf.y)\n",
    "    plt.grid(True)\n",
    "    plt.xlabel('error -> m')\n",
    "    plt.ylabel('Probability')\n",
    "    plt.title('Error CDF , Mean error = %.3f' % mean_err)\n",
    "    plt.savefig('error1.svg',bbox_inches='tight')\n",
    "\n",
    "    plt.show(block=False)\n",
    "\n",
    "    sys.stdout.write(\"done\\n\")\n",
    "    return\n",
    "\n",
    "\n",
    "def log_loss(val,mu,sigma):\n",
    "    #log_loss = (-(val-mu)**2)/(sigma**2)\n",
    "    \n",
    "    return np.log(norm.pdf(val,mu,3*sigma))"
   ]
  },
  {
   "cell_type": "code",
   "execution_count": 157,
   "metadata": {},
   "outputs": [
    {
     "name": "stdout",
     "output_type": "stream",
     "text": [
      "APNlocations.svg\r\n",
      "Getting_Real_Data_Into_Really_Useful_Format.ipynb\r\n",
      "NN_attempt.ipynb\r\n",
      "README.md\r\n",
      "RSSI-vs-distance.svg\r\n",
      "Untitled.ipynb\r\n",
      "\u001b[34m__pycache__\u001b[m\u001b[m\r\n",
      "error1.svg\r\n",
      "final_model.ipynb\r\n",
      "fingerprinting_skeleton.py\r\n",
      "handout.pdf\r\n",
      "histogramAP1.svg\r\n",
      "histogramAP2.svg\r\n",
      "histogramAP3.svg\r\n",
      "\u001b[34mimages\u001b[m\u001b[m\r\n",
      "main_img.pdf\r\n",
      "path1.svg\r\n",
      "predict_method3-Copy1.ipynb\r\n",
      "predict_method3.ipynb\r\n",
      "python\r\n",
      "q4functions.py\r\n",
      "\u001b[34mreal_data\u001b[m\u001b[m\r\n",
      "real_ips.py\r\n",
      "\u001b[34mset1\u001b[m\u001b[m\r\n",
      "\u001b[34mset2\u001b[m\u001b[m\r\n",
      "submit.py\r\n",
      "temp.py\r\n",
      "test_locations.txt\r\n"
     ]
    }
   ],
   "source": [
    "!ls"
   ]
  },
  {
   "cell_type": "code",
   "execution_count": 158,
   "metadata": {},
   "outputs": [
    {
     "ename": "FileNotFoundError",
     "evalue": "[Errno 2] No such file or directory: 'lab1'",
     "output_type": "error",
     "traceback": [
      "\u001b[0;31m---------------------------------------------------------------------------\u001b[0m",
      "\u001b[0;31mFileNotFoundError\u001b[0m                         Traceback (most recent call last)",
      "\u001b[0;32m<ipython-input-158-7560159c9004>\u001b[0m in \u001b[0;36m<module>\u001b[0;34m()\u001b[0m\n\u001b[0;32m----> 1\u001b[0;31m \u001b[0mos\u001b[0m\u001b[0;34m.\u001b[0m\u001b[0mchdir\u001b[0m\u001b[0;34m(\u001b[0m\u001b[0;34m'lab1'\u001b[0m\u001b[0;34m)\u001b[0m\u001b[0;34m\u001b[0m\u001b[0m\n\u001b[0m",
      "\u001b[0;31mFileNotFoundError\u001b[0m: [Errno 2] No such file or directory: 'lab1'"
     ]
    }
   ],
   "source": [
    "os.chdir('lab1')"
   ]
  },
  {
   "cell_type": "code",
   "execution_count": 159,
   "metadata": {
    "scrolled": false
   },
   "outputs": [
    {
     "name": "stdout",
     "output_type": "stream",
     "text": [
      "\n",
      "************************************************************\n",
      " The Horus Localization System\n",
      " Sensor Networks Course - University of Oxford\n",
      "************************************************************\n",
      "\n",
      "\n",
      "-> Loading files...done\n",
      "-> Visualizing histograms..."
     ]
    },
    {
     "name": "stderr",
     "output_type": "stream",
     "text": [
      "/Users/shaan/anaconda3/lib/python3.6/site-packages/matplotlib/axes/_axes.py:6462: UserWarning: The 'normed' kwarg is deprecated, and has been replaced by the 'density' kwarg.\n",
      "  warnings.warn(\"The 'normed' kwarg is deprecated, and has been \"\n"
     ]
    },
    {
     "data": {
      "image/png": "[encoded data removed]",
      "text/plain": [
       "<Figure size 432x288 with 1 Axes>"
      ]
     },
     "metadata": {},
     "output_type": "display_data"
    },
    {
     "name": "stderr",
     "output_type": "stream",
     "text": [
      "/Users/shaan/anaconda3/lib/python3.6/site-packages/matplotlib/axes/_axes.py:6462: UserWarning: The 'normed' kwarg is deprecated, and has been replaced by the 'density' kwarg.\n",
      "  warnings.warn(\"The 'normed' kwarg is deprecated, and has been \"\n"
     ]
    },
    {
     "data": {
      "image/png": "[encoded data removed]",
      "text/plain": [
       "<Figure size 432x288 with 1 Axes>"
      ]
     },
     "metadata": {},
     "output_type": "display_data"
    },
    {
     "name": "stderr",
     "output_type": "stream",
     "text": [
      "/Users/shaan/anaconda3/lib/python3.6/site-packages/matplotlib/axes/_axes.py:6462: UserWarning: The 'normed' kwarg is deprecated, and has been replaced by the 'density' kwarg.\n",
      "  warnings.warn(\"The 'normed' kwarg is deprecated, and has been \"\n"
     ]
    },
    {
     "data": {
      "image/png": "[encoded data removed]",
      "text/plain": [
       "<Figure size 432x288 with 1 Axes>"
      ]
     },
     "metadata": {},
     "output_type": "display_data"
    },
    {
     "name": "stdout",
     "output_type": "stream",
     "text": [
      "done\n",
      "-> Modeling RSS with Gaussian dist...done\n",
      "-> Running Horus...done\n",
      "-> Visualizing estimated trajectory..."
     ]
    },
    {
     "data": {
      "image/png": "[encoded data removed]",
      "text/plain": [
       "<Figure size 432x288 with 1 Axes>"
      ]
     },
     "metadata": {},
     "output_type": "display_data"
    },
    {
     "name": "stdout",
     "output_type": "stream",
     "text": [
      "done\n",
      "-> Calculating localization error..."
     ]
    },
    {
     "data": {
      "image/png": "[encoded data removed]",
      "text/plain": [
       "<Figure size 432x288 with 1 Axes>"
      ]
     },
     "metadata": {},
     "output_type": "display_data"
    },
    {
     "name": "stdout",
     "output_type": "stream",
     "text": [
      "done\n"
     ]
    }
   ],
   "source": [
    "# --------------------------------------------------------------\n",
    "# MAIN CODE\n",
    "# --------------------------------------------------------------\n",
    "\n",
    "# ----- Constants -----\n",
    "# Number of measurements per location\n",
    "nSamples = 60\n",
    "\n",
    "# ---- Configure Parameters -----\n",
    "# Select Dataset (set1 or set2)\n",
    "#parser = argparse.ArgumentParser()\n",
    "#parser.add_argument('-s','--data_set', choices={\"set1\", \"set2\"}, type=str, \n",
    "#    default='set1')\n",
    "#args = parser.parse_args()\n",
    "data_set = 'set1'\n",
    "\n",
    "# Visualize the RSS in location = loc\n",
    "loc = 2\n",
    "\n",
    "# ----- Run System ------\n",
    "\n",
    "# set1 contains 3 access points and set2 5 access points\n",
    "if data_set == \"set1\":\n",
    "    nAP = 3\n",
    "else:\n",
    "    nAP = 5\n",
    "\n",
    "init()\n",
    "\n",
    "# Load the RSS measurements from file\n",
    "(trainDB, testDB) = load_wifi_data(data_set, nSamples, nAP)\n",
    "\n",
    "# Show fingerprint locations\n",
    "#show_fingerprints(trainDB, nAP)\n",
    "\n",
    "# Plot the RSS histogram and approximate it with a Gaussian\n",
    "plot_histogram(trainDB, loc, nAP, nSamples)\n",
    "\n",
    "# Fit Gaussian distribution to the RSS measurements\n",
    "wifiDB = fit_data(trainDB, nSamples, nAP)\n",
    "\n",
    "# Run the localization algorithm\n",
    "# Estimate the unknown location given RSS measurements at that location\n",
    "(actualLoc, predictedLoc) = predict(wifiDB, testDB,3, np.array([50,50,50]))\n",
    "\n",
    "# Visualize the actual and estimated locations\n",
    "plot_path(actualLoc, predictedLoc, nAP)\n",
    "# Plot the mean localization error and error CDF\n",
    "plot_error(actualLoc, predictedLoc)\n",
    "\n"
   ]
  },
  {
   "cell_type": "code",
   "execution_count": 160,
   "metadata": {},
   "outputs": [],
   "source": [
    "df = pd.DataFrame(columns=['x','y','z'])"
   ]
  },
  {
   "cell_type": "code",
   "execution_count": 161,
   "metadata": {},
   "outputs": [],
   "source": [
    "df['x'] = wifiDB[:,1]"
   ]
  },
  {
   "cell_type": "code",
   "execution_count": 162,
   "metadata": {},
   "outputs": [],
   "source": [
    "df['y'] = wifiDB[:,2]\n",
    "df['z'] = lossy[0]"
   ]
  },
  {
   "cell_type": "code",
   "execution_count": 163,
   "metadata": {},
   "outputs": [
    {
     "data": {
      "text/html": [
       "<div>\n",
       "<style scoped>\n",
       "    .dataframe tbody tr th:only-of-type {\n",
       "        vertical-align: middle;\n",
       "    }\n",
       "\n",
       "    .dataframe tbody tr th {\n",
       "        vertical-align: top;\n",
       "    }\n",
       "\n",
       "    .dataframe thead th {\n",
       "        text-align: right;\n",
       "    }\n",
       "</style>\n",
       "<table border=\"1\" class=\"dataframe\">\n",
       "  <thead>\n",
       "    <tr style=\"text-align: right;\">\n",
       "      <th></th>\n",
       "      <th>x</th>\n",
       "      <th>y</th>\n",
       "      <th>z</th>\n",
       "    </tr>\n",
       "  </thead>\n",
       "  <tbody>\n",
       "    <tr>\n",
       "      <th>56</th>\n",
       "      <td>14.0</td>\n",
       "      <td>6.0</td>\n",
       "      <td>0.204165</td>\n",
       "    </tr>\n",
       "    <tr>\n",
       "      <th>68</th>\n",
       "      <td>14.0</td>\n",
       "      <td>8.0</td>\n",
       "      <td>0.198183</td>\n",
       "    </tr>\n",
       "    <tr>\n",
       "      <th>71</th>\n",
       "      <td>6.0</td>\n",
       "      <td>14.0</td>\n",
       "      <td>0.196617</td>\n",
       "    </tr>\n",
       "    <tr>\n",
       "      <th>92</th>\n",
       "      <td>8.0</td>\n",
       "      <td>14.0</td>\n",
       "      <td>0.198148</td>\n",
       "    </tr>\n",
       "    <tr>\n",
       "      <th>120</th>\n",
       "      <td>2.0</td>\n",
       "      <td>12.0</td>\n",
       "      <td>0.202887</td>\n",
       "    </tr>\n",
       "  </tbody>\n",
       "</table>\n",
       "</div>"
      ],
      "text/plain": [
       "        x     y         z\n",
       "56   14.0   6.0  0.204165\n",
       "68   14.0   8.0  0.198183\n",
       "71    6.0  14.0  0.196617\n",
       "92    8.0  14.0  0.198148\n",
       "120   2.0  12.0  0.202887"
      ]
     },
     "execution_count": 163,
     "metadata": {},
     "output_type": "execute_result"
    }
   ],
   "source": [
    "df.sort_values(by=['x','y'])\n",
    "\n",
    "df.loc[df['z']>.01]"
   ]
  },
  {
   "cell_type": "code",
   "execution_count": 164,
   "metadata": {},
   "outputs": [],
   "source": [
    "res = df['z'].values.reshape(-1,11)"
   ]
  },
  {
   "cell_type": "code",
   "execution_count": 165,
   "metadata": {},
   "outputs": [
    {
     "data": {
      "text/plain": [
       "array([11., 12.])"
      ]
     },
     "execution_count": 165,
     "metadata": {},
     "output_type": "execute_result"
    }
   ],
   "source": [
    "testDB[30,[1,2]]"
   ]
  },
  {
   "cell_type": "code",
   "execution_count": 166,
   "metadata": {},
   "outputs": [
    {
     "data": {
      "text/plain": [
       "<matplotlib.axes._subplots.AxesSubplot at 0x1a172ebeb8>"
      ]
     },
     "execution_count": 166,
     "metadata": {},
     "output_type": "execute_result"
    },
    {
     "data": {
      "image/png": "[encoded data removed]",
      "text/plain": [
       "<Figure size 432x288 with 2 Axes>"
      ]
     },
     "metadata": {},
     "output_type": "display_data"
    }
   ],
   "source": [
    "sns.heatmap(res)"
   ]
  },
  {
   "cell_type": "code",
   "execution_count": 78,
   "metadata": {},
   "outputs": [
    {
     "data": {
      "text/plain": [
       "<matplotlib.collections.PathCollection at 0x111b1fc18>"
      ]
     },
     "execution_count": 78,
     "metadata": {},
     "output_type": "execute_result"
    },
    {
     "data": {
      "image/png": "[encoded data removed]",
      "text/plain": [
       "<Figure size 432x288 with 1 Axes>"
      ]
     },
     "metadata": {},
     "output_type": "display_data"
    }
   ],
   "source": [
    "plt.scatter(df['x'],df['y'],cmap=df['z'])"
   ]
  },
  {
   "cell_type": "code",
   "execution_count": 57,
   "metadata": {},
   "outputs": [
    {
     "data": {
      "text/plain": [
       "array([  1,  14,  32,  36,  40,  50,  56,  62,  80, 107, 112])"
      ]
     },
     "execution_count": 57,
     "metadata": {},
     "output_type": "execute_result"
    }
   ],
   "source": [
    "ids[0]"
   ]
  },
  {
   "cell_type": "code",
   "execution_count": 58,
   "metadata": {},
   "outputs": [],
   "source": [
    "lossy = np.array(lossy)"
   ]
  },
  {
   "cell_type": "code",
   "execution_count": 59,
   "metadata": {},
   "outputs": [
    {
     "data": {
      "text/plain": [
       "array([2.58293810e-17, 1.85371121e-01, 5.84429420e-09, 2.40287490e-02,\n",
       "       2.23007312e-02, 4.35615001e-02, 9.77460283e-14, 1.04699911e-08,\n",
       "       1.07385808e-05, 7.17265707e-07, 1.34361715e-17, 5.61391325e-11,\n",
       "       2.22463687e-12, 3.45195957e-09, 6.07447950e-07, 2.14710907e-36,\n",
       "       1.71029072e-53, 1.13280743e-09, 1.29931704e-01, 1.20191148e-74,\n",
       "       1.70435305e-63, 3.24106127e-14, 2.41051570e-51, 2.15437542e-41,\n",
       "       1.60035238e-77, 1.98474580e-48, 6.58963340e-25, 8.76728636e-54,\n",
       "       5.94829016e-58, 2.89425808e-44, 2.63346973e-06, 1.88496239e-02,\n",
       "       4.00535340e-07, 9.63373452e-03, 2.64149168e-23, 1.57112152e-02,\n",
       "       3.61031814e-07, 1.28224979e-36, 3.83030516e-38, 1.96737459e-13,\n",
       "       1.75284400e-01, 9.54994889e-58, 1.99122981e-15, 3.23145356e-15,\n",
       "       1.73437161e-46, 4.31209327e-59, 6.57040402e-11, 1.80144702e-49,\n",
       "       3.64674490e-83, 3.62300055e-49, 1.74860771e-44, 1.83013065e-35,\n",
       "       6.37373280e-06, 1.93457450e-18, 3.72647164e-26, 6.76446701e-40,\n",
       "       2.37859856e-18, 7.89844909e-11, 3.81485197e-32, 5.66105939e-64,\n",
       "       3.06126035e-59, 6.24692110e-72, 4.08817490e-28, 2.73152069e-46,\n",
       "       3.03111383e-07, 6.13116229e-17, 1.05759248e-64, 9.71098298e-18,\n",
       "       7.59609917e-19, 8.95204044e-44, 1.55974180e-09, 2.28560509e-19,\n",
       "       1.78638796e-42, 3.60222063e-34, 7.11869297e-48, 1.20079385e-69,\n",
       "       2.37212741e-36, 9.36357650e-27, 1.26252353e-09, 1.33627670e-09,\n",
       "       4.80753254e-26, 1.74938817e-42, 4.00432210e-46, 3.65078656e-25,\n",
       "       3.48478378e-34, 5.91843766e-03, 1.16691468e-29, 2.00489664e-36,\n",
       "       5.24329567e-47, 2.63377568e-38, 1.97417504e-68, 3.48764954e-02,\n",
       "       1.96023866e-17, 6.57187915e-33, 1.21482068e-39, 9.00230065e-30,\n",
       "       2.09195943e-31, 1.99169071e-42, 1.74529823e-02, 2.41945717e-78,\n",
       "       2.93801938e-35, 1.18389462e-33, 2.14620997e-06, 1.10147503e-30,\n",
       "       2.96350677e-37, 2.68211198e-01, 1.02658551e-41, 2.57170328e-35,\n",
       "       2.89265146e-10, 1.24373478e-51, 1.62700902e-09, 1.95631507e-30,\n",
       "       2.81819780e-07, 5.08448591e-03, 8.17921166e-49, 2.35968205e-17,\n",
       "       2.32401789e-02, 1.73044856e-27, 9.76872388e-18, 2.05188526e-02,\n",
       "       2.38463942e-12])"
      ]
     },
     "execution_count": 59,
     "metadata": {},
     "output_type": "execute_result"
    }
   ],
   "source": [
    "lossy[0]"
   ]
  },
  {
   "cell_type": "code",
   "execution_count": 60,
   "metadata": {},
   "outputs": [
    {
     "data": {
      "text/plain": [
       "array([1.85371121e-01, 6.07447950e-07, 4.00535340e-07, 3.61031814e-07,\n",
       "       1.75284400e-01, 1.74860771e-44, 2.37859856e-18, 4.08817490e-28,\n",
       "       4.80753254e-26, 2.57170328e-35, 2.81819780e-07])"
      ]
     },
     "execution_count": 60,
     "metadata": {},
     "output_type": "execute_result"
    }
   ],
   "source": [
    "lossy[0][ids]"
   ]
  },
  {
   "cell_type": "code",
   "execution_count": 61,
   "metadata": {},
   "outputs": [
    {
     "data": {
      "text/plain": [
       "<matplotlib.collections.PathCollection at 0x11194c278>"
      ]
     },
     "execution_count": 61,
     "metadata": {},
     "output_type": "execute_result"
    },
    {
     "data": {
      "image/png": "[encoded data removed]",
      "text/plain": [
       "<Figure size 432x288 with 1 Axes>"
      ]
     },
     "metadata": {},
     "output_type": "display_data"
    }
   ],
   "source": [
    "plt.scatter(range(11),lossy[0][ids])"
   ]
  },
  {
   "cell_type": "code",
   "execution_count": 124,
   "metadata": {},
   "outputs": [
    {
     "name": "stdout",
     "output_type": "stream",
     "text": [
      "-> Visualizing estimated trajectory..."
     ]
    },
    {
     "data": {
      "image/png": "[encoded data removed]",
      "text/plain": [
       "<Figure size 432x288 with 1 Axes>"
      ]
     },
     "metadata": {},
     "output_type": "display_data"
    },
    {
     "name": "stdout",
     "output_type": "stream",
     "text": [
      "done\n"
     ]
    }
   ],
   "source": [
    "plot_path(actualLoc, np.array(predictedLoc), nAP)\n"
   ]
  },
  {
   "cell_type": "code",
   "execution_count": 12,
   "metadata": {},
   "outputs": [
    {
     "ename": "SyntaxError",
     "evalue": "invalid syntax (<ipython-input-12-5ad78b2681f1>, line 1)",
     "output_type": "error",
     "traceback": [
      "\u001b[0;36m  File \u001b[0;32m\"<ipython-input-12-5ad78b2681f1>\"\u001b[0;36m, line \u001b[0;32m1\u001b[0m\n\u001b[0;31m    ps = [3.92502179e-12 9.27068931e-02 1.04961414e-05 7.61145036e-02\u001b[0m\n\u001b[0m                                      ^\u001b[0m\n\u001b[0;31mSyntaxError\u001b[0m\u001b[0;31m:\u001b[0m invalid syntax\n"
     ]
    }
   ],
   "source": []
  },
  {
   "cell_type": "code",
   "execution_count": null,
   "metadata": {},
   "outputs": [],
   "source": []
  }
 ],
 "metadata": {
  "kernelspec": {
   "display_name": "Python 3",
   "language": "python",
   "name": "python3"
  },
  "language_info": {
   "codemirror_mode": {
    "name": "ipython",
    "version": 3
   },
   "file_extension": ".py",
   "mimetype": "text/x-python",
   "name": "python",
   "nbconvert_exporter": "python",
   "pygments_lexer": "ipython3",
   "version": "3.6.5"
  }
 },
 "nbformat": 4,
 "nbformat_minor": 2
}
