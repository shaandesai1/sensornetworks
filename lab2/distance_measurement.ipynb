{
 "cells": [
  {
   "cell_type": "code",
   "execution_count": 7,
   "metadata": {
    "collapsed": true
   },
   "outputs": [],
   "source": [
    "import numpy as np\n",
    "import pandas as pd\n",
    "import matplotlib.pyplot as plt\n",
    "%matplotlib inline"
   ]
  },
  {
   "cell_type": "code",
   "execution_count": 4,
   "metadata": {
    "collapsed": false
   },
   "outputs": [],
   "source": [
    "df = pd.read_csv('2019group1acc.csv')"
   ]
  },
  {
   "cell_type": "code",
   "execution_count": 5,
   "metadata": {
    "collapsed": false
   },
   "outputs": [
    {
     "data": {
      "text/html": [
       "<div>\n",
       "<table border=\"1\" class=\"dataframe\">\n",
       "  <thead>\n",
       "    <tr style=\"text-align: right;\">\n",
       "      <th></th>\n",
       "      <th>%time</th>\n",
       "      <th>field.header.seq</th>\n",
       "      <th>field.header.stamp</th>\n",
       "      <th>field.header.frame_id</th>\n",
       "      <th>field.child_frame_id</th>\n",
       "      <th>field.transform.translation.x</th>\n",
       "      <th>field.transform.translation.y</th>\n",
       "      <th>field.transform.translation.z</th>\n",
       "      <th>field.transform.rotation.x</th>\n",
       "      <th>field.transform.rotation.y</th>\n",
       "      <th>field.transform.rotation.z</th>\n",
       "      <th>field.transform.rotation.w</th>\n",
       "    </tr>\n",
       "  </thead>\n",
       "  <tbody>\n",
       "    <tr>\n",
       "      <th>0</th>\n",
       "      <td>1548944321776251609</td>\n",
       "      <td>68501</td>\n",
       "      <td>1548944321776251609</td>\n",
       "      <td>/world</td>\n",
       "      <td>vicon/target3/target3</td>\n",
       "      <td>-0.054542</td>\n",
       "      <td>1.264896</td>\n",
       "      <td>0.015234</td>\n",
       "      <td>-0.037925</td>\n",
       "      <td>0.025704</td>\n",
       "      <td>0.133833</td>\n",
       "      <td>0.989944</td>\n",
       "    </tr>\n",
       "    <tr>\n",
       "      <th>1</th>\n",
       "      <td>1548944321781514946</td>\n",
       "      <td>68502</td>\n",
       "      <td>1548944321781514946</td>\n",
       "      <td>/world</td>\n",
       "      <td>vicon/target3/target3</td>\n",
       "      <td>-0.054454</td>\n",
       "      <td>1.264875</td>\n",
       "      <td>0.015360</td>\n",
       "      <td>-0.037976</td>\n",
       "      <td>0.026199</td>\n",
       "      <td>0.133846</td>\n",
       "      <td>0.989928</td>\n",
       "    </tr>\n",
       "    <tr>\n",
       "      <th>2</th>\n",
       "      <td>1548944321786533740</td>\n",
       "      <td>68503</td>\n",
       "      <td>1548944321786533740</td>\n",
       "      <td>/world</td>\n",
       "      <td>vicon/target3/target3</td>\n",
       "      <td>-0.054487</td>\n",
       "      <td>1.264869</td>\n",
       "      <td>0.015333</td>\n",
       "      <td>-0.037154</td>\n",
       "      <td>0.025378</td>\n",
       "      <td>0.134251</td>\n",
       "      <td>0.989925</td>\n",
       "    </tr>\n",
       "    <tr>\n",
       "      <th>3</th>\n",
       "      <td>1548944321791498715</td>\n",
       "      <td>68504</td>\n",
       "      <td>1548944321791498715</td>\n",
       "      <td>/world</td>\n",
       "      <td>vicon/target3/target3</td>\n",
       "      <td>-0.054457</td>\n",
       "      <td>1.264887</td>\n",
       "      <td>0.015309</td>\n",
       "      <td>-0.039021</td>\n",
       "      <td>0.025946</td>\n",
       "      <td>0.133458</td>\n",
       "      <td>0.989946</td>\n",
       "    </tr>\n",
       "    <tr>\n",
       "      <th>4</th>\n",
       "      <td>1548944321796499223</td>\n",
       "      <td>68505</td>\n",
       "      <td>1548944321796499223</td>\n",
       "      <td>/world</td>\n",
       "      <td>vicon/target3/target3</td>\n",
       "      <td>-0.054611</td>\n",
       "      <td>1.264733</td>\n",
       "      <td>0.014988</td>\n",
       "      <td>-0.046893</td>\n",
       "      <td>0.039435</td>\n",
       "      <td>0.133920</td>\n",
       "      <td>0.989096</td>\n",
       "    </tr>\n",
       "  </tbody>\n",
       "</table>\n",
       "</div>"
      ],
      "text/plain": [
       "                 %time  field.header.seq   field.header.stamp  \\\n",
       "0  1548944321776251609             68501  1548944321776251609   \n",
       "1  1548944321781514946             68502  1548944321781514946   \n",
       "2  1548944321786533740             68503  1548944321786533740   \n",
       "3  1548944321791498715             68504  1548944321791498715   \n",
       "4  1548944321796499223             68505  1548944321796499223   \n",
       "\n",
       "  field.header.frame_id   field.child_frame_id  field.transform.translation.x  \\\n",
       "0                /world  vicon/target3/target3                      -0.054542   \n",
       "1                /world  vicon/target3/target3                      -0.054454   \n",
       "2                /world  vicon/target3/target3                      -0.054487   \n",
       "3                /world  vicon/target3/target3                      -0.054457   \n",
       "4                /world  vicon/target3/target3                      -0.054611   \n",
       "\n",
       "   field.transform.translation.y  field.transform.translation.z  \\\n",
       "0                       1.264896                       0.015234   \n",
       "1                       1.264875                       0.015360   \n",
       "2                       1.264869                       0.015333   \n",
       "3                       1.264887                       0.015309   \n",
       "4                       1.264733                       0.014988   \n",
       "\n",
       "   field.transform.rotation.x  field.transform.rotation.y  \\\n",
       "0                   -0.037925                    0.025704   \n",
       "1                   -0.037976                    0.026199   \n",
       "2                   -0.037154                    0.025378   \n",
       "3                   -0.039021                    0.025946   \n",
       "4                   -0.046893                    0.039435   \n",
       "\n",
       "   field.transform.rotation.z  field.transform.rotation.w  \n",
       "0                    0.133833                    0.989944  \n",
       "1                    0.133846                    0.989928  \n",
       "2                    0.134251                    0.989925  \n",
       "3                    0.133458                    0.989946  \n",
       "4                    0.133920                    0.989096  "
      ]
     },
     "execution_count": 5,
     "metadata": {},
     "output_type": "execute_result"
    }
   ],
   "source": [
    "df.head()"
   ]
  },
  {
   "cell_type": "code",
   "execution_count": 14,
   "metadata": {
    "collapsed": false
   },
   "outputs": [
    {
     "data": {
      "text/plain": [
       "(15335,)"
      ]
     },
     "execution_count": 14,
     "metadata": {},
     "output_type": "execute_result"
    }
   ],
   "source": [
    "df['field.transform.translation.x'].shape"
   ]
  },
  {
   "cell_type": "code",
   "execution_count": 15,
   "metadata": {
    "collapsed": false
   },
   "outputs": [
    {
     "data": {
      "text/plain": [
       "<matplotlib.collections.PathCollection at 0x2286c62c780>"
      ]
     },
     "execution_count": 15,
     "metadata": {},
     "output_type": "execute_result"
    },
    {
     "data": {
      "image/png": "[encoded data removed]",
      "text/plain": [
       "<matplotlib.figure.Figure at 0x2286c56a518>"
      ]
     },
     "metadata": {},
     "output_type": "display_data"
    }
   ],
   "source": [
    "plt.scatter(range(df.shape[0]),df[\"field.transform.translation.x\"])"
   ]
  },
  {
   "cell_type": "code",
   "execution_count": 63,
   "metadata": {
    "collapsed": false
   },
   "outputs": [
    {
     "data": {
      "text/plain": [
       "<matplotlib.collections.PathCollection at 0x2286dadcc18>"
      ]
     },
     "execution_count": 63,
     "metadata": {},
     "output_type": "execute_result"
    },
    {
     "data": {
      "image/png": "[encoded data removed]",
      "text/plain": [
       "<matplotlib.figure.Figure at 0x2286da5fd30>"
      ]
     },
     "metadata": {},
     "output_type": "display_data"
    }
   ],
   "source": [
    "plt.scatter(range(df.shape[0]),dround)\n",
    "plt.scatter(z.index,z.values)"
   ]
  },
  {
   "cell_type": "code",
   "execution_count": 36,
   "metadata": {
    "collapsed": false
   },
   "outputs": [
    {
     "data": {
      "text/plain": [
       "1.2"
      ]
     },
     "execution_count": 36,
     "metadata": {},
     "output_type": "execute_result"
    }
   ],
   "source": [
    "dround[1013]"
   ]
  },
  {
   "cell_type": "code",
   "execution_count": 25,
   "metadata": {
    "collapsed": false
   },
   "outputs": [],
   "source": [
    "index_chop = []\n",
    "dround = df['field.transform.translation.y'].round(1)\n",
    "prev = dround[0]\n",
    "for i in range(1,df.shape[0]):\n",
    "    next_v = dround[i]\n",
    "    if next_v < prev:\n",
    "        index_chop.append(i)\n",
    "        prev = next_v"
   ]
  },
  {
   "cell_type": "code",
   "execution_count": 46,
   "metadata": {
    "collapsed": false
   },
   "outputs": [],
   "source": [
    "index_chop=np.array(index_chop)"
   ]
  },
  {
   "cell_type": "code",
   "execution_count": 59,
   "metadata": {
    "collapsed": false
   },
   "outputs": [
    {
     "data": {
      "text/plain": [
       "array([    0,     1,     2, ..., 15332, 15333, 15334], dtype=int64)"
      ]
     },
     "execution_count": 59,
     "metadata": {},
     "output_type": "execute_result"
    }
   ],
   "source": [
    "dround.index.values"
   ]
  },
  {
   "cell_type": "code",
   "execution_count": 61,
   "metadata": {
    "collapsed": false
   },
   "outputs": [
    {
     "data": {
      "text/plain": [
       "array([ 1013,  1030,  1048,  1063,  1087,  2875,  2891,  2907,  2924,\n",
       "        2948,  5196,  5228,  5249,  5270,  5303,  7688,  7718,  7734,\n",
       "        7756,  7787,  9994, 10020, 10275, 10298, 10317, 12838, 12868,\n",
       "       12887, 12910, 12941, 14862], dtype=int64)"
      ]
     },
     "execution_count": 61,
     "metadata": {},
     "output_type": "execute_result"
    }
   ],
   "source": [
    "dround.index.values[index_chop]"
   ]
  },
  {
   "cell_type": "code",
   "execution_count": 64,
   "metadata": {
    "collapsed": false
   },
   "outputs": [],
   "source": [
    "\n",
    "z = df['field.transform.translation.y'].iloc[index_chop]\n"
   ]
  },
  {
   "cell_type": "code",
   "execution_count": 72,
   "metadata": {
    "collapsed": false
   },
   "outputs": [],
   "source": [
    "new = z[0::5]"
   ]
  },
  {
   "cell_type": "code",
   "execution_count": 78,
   "metadata": {
    "collapsed": false
   },
   "outputs": [],
   "source": [
    "new = new.values"
   ]
  },
  {
   "cell_type": "code",
   "execution_count": 79,
   "metadata": {
    "collapsed": false
   },
   "outputs": [
    {
     "name": "stdout",
     "output_type": "stream",
     "text": [
      "-0.4987736218240001\n",
      "-0.5008924737029999\n",
      "-0.500720377456\n",
      "-0.49970384271500007\n",
      "-0.49917939503200004\n",
      "-0.49931581563999994\n"
     ]
    }
   ],
   "source": [
    "avg_ctr = 0\n",
    "for i in range(len(new)-1):\n",
    "    print(new[i+1]-new[i])"
   ]
  },
  {
   "cell_type": "code",
   "execution_count": null,
   "metadata": {
    "collapsed": true
   },
   "outputs": [],
   "source": []
  }
 ],
 "metadata": {
  "kernelspec": {
   "display_name": "Python 3",
   "language": "python",
   "name": "python3"
  },
  "language_info": {
   "codemirror_mode": {
    "name": "ipython",
    "version": 3
   },
   "file_extension": ".py",
   "mimetype": "text/x-python",
   "name": "python",
   "nbconvert_exporter": "python",
   "pygments_lexer": "ipython3",
   "version": "3.6.5"
  }
 },
 "nbformat": 4,
 "nbformat_minor": 2
}
