{
 "cells": [
  {
   "cell_type": "code",
   "execution_count": null,
   "metadata": {},
   "outputs": [],
   "source": [
    "!ls real_data/"
   ]
  },
  {
   "cell_type": "code",
   "execution_count": 1,
   "metadata": {},
   "outputs": [
    {
     "name": "stdout",
     "output_type": "stream",
     "text": [
      "Loading training data from ./real_data/training/\n"
     ]
    },
    {
     "name": "stderr",
     "output_type": "stream",
     "text": [
      "Loading training data from ./real_data/training/100% (15 of 15) || Elapsed Time: 0:00:00 Time:  0:00:00\n"
     ]
    },
    {
     "name": "stdout",
     "output_type": "stream",
     "text": [
      "(1, 47)\n",
      "range(0, 47)\n"
     ]
    },
    {
     "ename": "IndexError",
     "evalue": "index 2 is out of bounds for axis 0 with size 2",
     "output_type": "error",
     "traceback": [
      "\u001b[0;31m---------------------------------------------------------------------------\u001b[0m",
      "\u001b[0;31mIndexError\u001b[0m                                Traceback (most recent call last)",
      "\u001b[0;32m<ipython-input-1-a39c25735640>\u001b[0m in \u001b[0;36m<module>\u001b[0;34m\u001b[0m\n\u001b[1;32m     98\u001b[0m \u001b[0mtrain_data\u001b[0m \u001b[0;34m=\u001b[0m \u001b[0mget_training_data\u001b[0m\u001b[0;34m(\u001b[0m\u001b[0mtraining_path\u001b[0m\u001b[0;34m)\u001b[0m\u001b[0;34m\u001b[0m\u001b[0m\n\u001b[1;32m     99\u001b[0m \u001b[0;34m\u001b[0m\u001b[0m\n\u001b[0;32m--> 100\u001b[0;31m \u001b[0ma\u001b[0m\u001b[0;34m,\u001b[0m\u001b[0mb\u001b[0m \u001b[0;34m=\u001b[0m \u001b[0mmake_predictions\u001b[0m\u001b[0;34m(\u001b[0m\u001b[0mtrain_data\u001b[0m\u001b[0;34m,\u001b[0m\u001b[0mtest_data\u001b[0m\u001b[0;34m)\u001b[0m\u001b[0;34m\u001b[0m\u001b[0m\n\u001b[0m\u001b[1;32m    101\u001b[0m \u001b[0;34m\u001b[0m\u001b[0m\n\u001b[1;32m    102\u001b[0m \u001b[0;31m# b = b.values\u001b[0m\u001b[0;34m\u001b[0m\u001b[0;34m\u001b[0m\u001b[0m\n",
      "\u001b[0;32m<ipython-input-1-a39c25735640>\u001b[0m in \u001b[0;36mmake_predictions\u001b[0;34m(train_data, test_data)\u001b[0m\n\u001b[1;32m     81\u001b[0m \u001b[0;34m\u001b[0m\u001b[0m\n\u001b[1;32m     82\u001b[0m \u001b[0;34m\u001b[0m\u001b[0m\n\u001b[0;32m---> 83\u001b[0;31m         \u001b[0m_\u001b[0m\u001b[0;34m,\u001b[0m\u001b[0mlocation\u001b[0m \u001b[0;34m=\u001b[0m \u001b[0mq4funcs\u001b[0m\u001b[0;34m.\u001b[0m\u001b[0mpredict\u001b[0m\u001b[0;34m(\u001b[0m\u001b[0mcropped_train_df\u001b[0m\u001b[0;34m.\u001b[0m\u001b[0mvalues\u001b[0m\u001b[0;34m,\u001b[0m\u001b[0mcropped_test_df\u001b[0m\u001b[0;34m.\u001b[0m\u001b[0mvalues\u001b[0m\u001b[0;34m,\u001b[0m\u001b[0mlen\u001b[0m\u001b[0;34m(\u001b[0m\u001b[0mcropped_test_df\u001b[0m\u001b[0;34m.\u001b[0m\u001b[0mcolumns\u001b[0m\u001b[0;34m)\u001b[0m\u001b[0;34m)\u001b[0m\u001b[0;34m\u001b[0m\u001b[0m\n\u001b[0m\u001b[1;32m     84\u001b[0m         \u001b[0mlocation\u001b[0m \u001b[0;34m=\u001b[0m \u001b[0;36m1\u001b[0m\u001b[0;34m\u001b[0m\u001b[0m\n\u001b[1;32m     85\u001b[0m         \u001b[0mlocations\u001b[0m\u001b[0;34m.\u001b[0m\u001b[0mappend\u001b[0m\u001b[0;34m(\u001b[0m\u001b[0mlocation\u001b[0m\u001b[0;34m)\u001b[0m\u001b[0;34m\u001b[0m\u001b[0m\n",
      "\u001b[0;32m~/Documents/AIMS Practicals/SensorNetworks/aims_lab/sensornetworks/q4functions.py\u001b[0m in \u001b[0;36mpredict\u001b[0;34m(wifi_db, test_db, n_ap)\u001b[0m\n\u001b[1;32m    255\u001b[0m             \u001b[0mprint\u001b[0m\u001b[0;34m(\u001b[0m\u001b[0mrange\u001b[0m\u001b[0;34m(\u001b[0m\u001b[0mn_ap\u001b[0m\u001b[0;34m)\u001b[0m\u001b[0;34m)\u001b[0m\u001b[0;34m\u001b[0m\u001b[0m\n\u001b[1;32m    256\u001b[0m \u001b[0;34m\u001b[0m\u001b[0m\n\u001b[0;32m--> 257\u001b[0;31m             \u001b[0mlossall\u001b[0m \u001b[0;34m=\u001b[0m \u001b[0;34m[\u001b[0m\u001b[0mlog_loss\u001b[0m\u001b[0;34m(\u001b[0m\u001b[0mtest_db\u001b[0m\u001b[0;34m[\u001b[0m\u001b[0mi\u001b[0m\u001b[0;34m,\u001b[0m\u001b[0mk\u001b[0m\u001b[0;34m+\u001b[0m\u001b[0;36m2\u001b[0m\u001b[0;34m]\u001b[0m\u001b[0;34m,\u001b[0m\u001b[0mAP\u001b[0m\u001b[0;34m[\u001b[0m\u001b[0mk\u001b[0m\u001b[0;34m,\u001b[0m\u001b[0mj\u001b[0m\u001b[0;34m,\u001b[0m\u001b[0;36m0\u001b[0m\u001b[0;34m]\u001b[0m\u001b[0;34m,\u001b[0m\u001b[0mAP\u001b[0m\u001b[0;34m[\u001b[0m\u001b[0mk\u001b[0m\u001b[0;34m,\u001b[0m\u001b[0mj\u001b[0m\u001b[0;34m,\u001b[0m\u001b[0;36m1\u001b[0m\u001b[0;34m]\u001b[0m\u001b[0;34m)\u001b[0m \u001b[0;32mfor\u001b[0m \u001b[0mk\u001b[0m \u001b[0;32min\u001b[0m \u001b[0mrange\u001b[0m\u001b[0;34m(\u001b[0m\u001b[0mn_ap\u001b[0m\u001b[0;34m)\u001b[0m\u001b[0;34m]\u001b[0m\u001b[0;34m\u001b[0m\u001b[0m\n\u001b[0m\u001b[1;32m    258\u001b[0m             \u001b[0mloss\u001b[0m\u001b[0;34m[\u001b[0m\u001b[0mj\u001b[0m\u001b[0;34m]\u001b[0m \u001b[0;34m=\u001b[0m \u001b[0msum\u001b[0m\u001b[0;34m(\u001b[0m\u001b[0mlossall\u001b[0m\u001b[0;34m)\u001b[0m\u001b[0;34m/\u001b[0m\u001b[0msum\u001b[0m\u001b[0;34m(\u001b[0m\u001b[0;34m~\u001b[0m\u001b[0mnp\u001b[0m\u001b[0;34m.\u001b[0m\u001b[0misnan\u001b[0m\u001b[0;34m(\u001b[0m\u001b[0mlossall\u001b[0m\u001b[0;34m)\u001b[0m\u001b[0;34m)\u001b[0m\u001b[0;34m\u001b[0m\u001b[0m\n\u001b[1;32m    259\u001b[0m \u001b[0;34m\u001b[0m\u001b[0m\n",
      "\u001b[0;32m~/Documents/AIMS Practicals/SensorNetworks/aims_lab/sensornetworks/q4functions.py\u001b[0m in \u001b[0;36m<listcomp>\u001b[0;34m(.0)\u001b[0m\n\u001b[1;32m    255\u001b[0m             \u001b[0mprint\u001b[0m\u001b[0;34m(\u001b[0m\u001b[0mrange\u001b[0m\u001b[0;34m(\u001b[0m\u001b[0mn_ap\u001b[0m\u001b[0;34m)\u001b[0m\u001b[0;34m)\u001b[0m\u001b[0;34m\u001b[0m\u001b[0m\n\u001b[1;32m    256\u001b[0m \u001b[0;34m\u001b[0m\u001b[0m\n\u001b[0;32m--> 257\u001b[0;31m             \u001b[0mlossall\u001b[0m \u001b[0;34m=\u001b[0m \u001b[0;34m[\u001b[0m\u001b[0mlog_loss\u001b[0m\u001b[0;34m(\u001b[0m\u001b[0mtest_db\u001b[0m\u001b[0;34m[\u001b[0m\u001b[0mi\u001b[0m\u001b[0;34m,\u001b[0m\u001b[0mk\u001b[0m\u001b[0;34m+\u001b[0m\u001b[0;36m2\u001b[0m\u001b[0;34m]\u001b[0m\u001b[0;34m,\u001b[0m\u001b[0mAP\u001b[0m\u001b[0;34m[\u001b[0m\u001b[0mk\u001b[0m\u001b[0;34m,\u001b[0m\u001b[0mj\u001b[0m\u001b[0;34m,\u001b[0m\u001b[0;36m0\u001b[0m\u001b[0;34m]\u001b[0m\u001b[0;34m,\u001b[0m\u001b[0mAP\u001b[0m\u001b[0;34m[\u001b[0m\u001b[0mk\u001b[0m\u001b[0;34m,\u001b[0m\u001b[0mj\u001b[0m\u001b[0;34m,\u001b[0m\u001b[0;36m1\u001b[0m\u001b[0;34m]\u001b[0m\u001b[0;34m)\u001b[0m \u001b[0;32mfor\u001b[0m \u001b[0mk\u001b[0m \u001b[0;32min\u001b[0m \u001b[0mrange\u001b[0m\u001b[0;34m(\u001b[0m\u001b[0mn_ap\u001b[0m\u001b[0;34m)\u001b[0m\u001b[0;34m]\u001b[0m\u001b[0;34m\u001b[0m\u001b[0m\n\u001b[0m\u001b[1;32m    258\u001b[0m             \u001b[0mloss\u001b[0m\u001b[0;34m[\u001b[0m\u001b[0mj\u001b[0m\u001b[0;34m]\u001b[0m \u001b[0;34m=\u001b[0m \u001b[0msum\u001b[0m\u001b[0;34m(\u001b[0m\u001b[0mlossall\u001b[0m\u001b[0;34m)\u001b[0m\u001b[0;34m/\u001b[0m\u001b[0msum\u001b[0m\u001b[0;34m(\u001b[0m\u001b[0;34m~\u001b[0m\u001b[0mnp\u001b[0m\u001b[0;34m.\u001b[0m\u001b[0misnan\u001b[0m\u001b[0;34m(\u001b[0m\u001b[0mlossall\u001b[0m\u001b[0;34m)\u001b[0m\u001b[0;34m)\u001b[0m\u001b[0;34m\u001b[0m\u001b[0m\n\u001b[1;32m    259\u001b[0m \u001b[0;34m\u001b[0m\u001b[0m\n",
      "\u001b[0;31mIndexError\u001b[0m: index 2 is out of bounds for axis 0 with size 2"
     ]
    }
   ],
   "source": [
    "import os\n",
    "import pandas as pd\n",
    "import numpy as np\n",
    "import progressbar\n",
    "import time\n",
    "import q4functions as q4funcs\n",
    "\n",
    "\n",
    "def predict(train,test,n_ap):\n",
    "    pass\n",
    "\n",
    "\n",
    "def get_training_data(path,calculate_means_and_variances=True):\n",
    "    ''' Loads in training data from path argument, and returns in matrix for with mac addresses as columns.\n",
    "        If calculate_means_and_variances=True the entries are the means and standard deviations of the readings,\n",
    "        else just a list of all samples is returned\n",
    "    '''\n",
    "    print(f'Loading training data from {path}')\n",
    "    time.sleep(0.2)\n",
    "    locations_df = pd.read_csv(os.path.join(path,'location.txt'),header=None)\n",
    "    locations_df.columns = ['x','y']\n",
    "    features_path = os.path.join(path,'wifi_signal')\n",
    "    feature_csvs = os.listdir(features_path)\n",
    "    train_df = pd.DataFrame()\n",
    "    for feature_csv in progressbar.progressbar(feature_csvs,prefix=f'Loading training data from {path}'):\n",
    "        location = np.array(locations_df.iloc[int(feature_csv[6:].split('.')[0])-1])\n",
    "#         corresponding_location = locations_df[]\n",
    "        feature_df = pd.read_csv(os.path.join(features_path,feature_csv),header=None)\n",
    "        feature_df.columns = ['timestamp','router_name','mac_address','channel','RSSI']\n",
    "        unique_mac_addresses = list(set(feature_df['mac_address']))\n",
    "        location_dict = {'x': location[0], 'y': location[1]}\n",
    "        \n",
    "        for unique_mac_address in unique_mac_addresses:\n",
    "            relevant_entries = feature_df.iloc[np.where(feature_df['mac_address']==unique_mac_address)]\n",
    "            rssi_values = relevant_entries['RSSI'] + 0.5*np.random.random(size=len(relevant_entries))\n",
    "            if calculate_means_and_variances:\n",
    "                #             add artificial noise to avoid 0 standard deviation\n",
    "                mean = rssi_values.mean()\n",
    "                std_dv = rssi_values.std()\n",
    "                means_and_stdevs = [mean,std_dv]\n",
    "                location_dict[unique_mac_address] = means_and_stdevs \n",
    "            else:\n",
    "                location_dict[unique_mac_address] = rssi_values\n",
    "        train_df =train_df.append(location_dict,ignore_index=True)\n",
    "    train_df = train_df.reindex(columns = ['x','y'] + [col for col in train_df.columns if col not in ['x','y'] ])\n",
    "    return train_df\n",
    "\n",
    "def get_test_data(path):\n",
    "    locations_df = pd.read_csv(os.path.join(path,'location.txt'),header=None)\n",
    "    features_path = os.path.join(path,'wifi_signal')\n",
    "    feature_csvs = os.listdir(features_path)\n",
    "    test_df = pd.DataFrame()\n",
    "    for feature_csv in feature_csvs:\n",
    "\n",
    "        feature_df = pd.read_csv(os.path.join(features_path,feature_csv))\n",
    "        feature_df.columns = ['timestamp','router_name','mac_address','channel','RSSI']\n",
    "        unique_mac_addresses = list(set(feature_df['mac_address']))\n",
    "        location_dict = {'x': 0, 'y': 0}\n",
    "        \n",
    "        for unique_mac_address in unique_mac_addresses:\n",
    "            relevant_entries = feature_df.iloc[np.where(feature_df['mac_address']==unique_mac_address)]\n",
    "            rssi_values = relevant_entries['RSSI']\n",
    "            location_dict[unique_mac_address] = rssi_values\n",
    "        test_df =test_df.append(location_dict,ignore_index=True)\n",
    "    test_df = test_df.reindex(columns = ['x','y'] + [col for col in test_df.columns if col not in ['x','y'] ])\n",
    "    return test_df\n",
    "\n",
    "def make_predictions(train_data,test_data):\n",
    "    locations = []\n",
    "    for i in range(len(test_data)):\n",
    "        test_features = pd.DataFrame(test_data.iloc[i]).transpose()\n",
    "        test_mac_addresses = set(test_features.columns[2:])\n",
    "        train_mac_addresses = set(train_data.columns[2:])\n",
    "        \n",
    "        \n",
    "        mutual_mac_addresses = list(test_mac_addresses.intersection(train_mac_addresses))\n",
    "        cropped_test_df = test_features[['x','y']+ mutual_mac_addresses]\n",
    "        \n",
    "        cropped_test_df = pd.DataFrame(cropped_test_df.apply(lambda x: np.mean(x[0]))).transpose()\n",
    "        cropped_train_df = train_data[['x','y']+mutual_mac_addresses]\n",
    "    \n",
    "\n",
    "        _,location = q4funcs.predict(cropped_train_df.values,cropped_test_df.values,len(cropped_test_df.columns))\n",
    "        location = 1\n",
    "        locations.append(location)\n",
    "       \n",
    "        break\n",
    "    return cropped_test_df,cropped_train_df\n",
    "\n",
    "def preprocess_training_data(*args):\n",
    "    pass\n",
    "    \n",
    "training_path = \"./real_data/training/\"\n",
    "test_path = \"./real_data/test/\"\n",
    "\n",
    "# get_training_data(training_path,calculate_means_and_variances=True).head()\n",
    "test_data = get_test_data(test_path)\n",
    "train_data = get_training_data(training_path)\n",
    "\n",
    "a,b = make_predictions(train_data,test_data)\n",
    "\n",
    "# b = b.values"
   ]
  },
  {
   "cell_type": "code",
   "execution_count": null,
   "metadata": {},
   "outputs": [],
   "source": [
    "arr = np.zeros((bvals.shape[0],bvals.shape[1],2))\n",
    "bvals = b.values\n",
    "\n",
    "for i in range(bvals.shape[0]):\n",
    "    for j in range(bvals.shape[1]):\n",
    "        if type(bvals)==float:\n",
    "            bvals = [np.nan,np.nan]\n",
    "        arr[i,j,:] = np.array(bvals[i,j])\n",
    "\n",
    "print(arr)"
   ]
  },
  {
   "cell_type": "code",
   "execution_count": null,
   "metadata": {},
   "outputs": [],
   "source": []
  },
  {
   "cell_type": "code",
   "execution_count": null,
   "metadata": {},
   "outputs": [],
   "source": []
  },
  {
   "cell_type": "code",
   "execution_count": 9,
   "metadata": {},
   "outputs": [
    {
     "data": {
      "text/plain": [
       "array([[  0.        ,   0.        ,          nan, -82.96551724,\n",
       "        -88.        , -91.        , -73.85294118, -73.82352941,\n",
       "        -41.64705882, -44.35294118, -81.86206897, -82.03225806,\n",
       "        -84.84848485,          nan, -85.6875    , -89.78571429,\n",
       "        -45.15151515, -87.05555556, -85.05      , -68.44117647,\n",
       "        -90.33333333, -68.41176471, -86.8       , -85.        ,\n",
       "        -84.41176471, -84.64705882, -87.5       , -83.10344828,\n",
       "        -89.21428571, -80.76923077, -85.92592593, -84.05263158,\n",
       "        -75.29411765, -75.61764706, -45.02941176, -86.2962963 ,\n",
       "        -86.81818182,          nan,          nan,          nan,\n",
       "        -86.5       , -85.5       , -45.02941176, -79.96153846,\n",
       "        -46.17647059, -40.85294118, -41.64705882]])"
      ]
     },
     "execution_count": 9,
     "metadata": {},
     "output_type": "execute_result"
    }
   ],
   "source": [
    "b"
   ]
  }
 ],
 "metadata": {
  "kernelspec": {
   "display_name": "Python 3",
   "language": "python",
   "name": "python3"
  },
  "language_info": {
   "codemirror_mode": {
    "name": "ipython",
    "version": 3
   },
   "file_extension": ".py",
   "mimetype": "text/x-python",
   "name": "python",
   "nbconvert_exporter": "python",
   "pygments_lexer": "ipython3",
   "version": "3.7.0"
  }
 },
 "nbformat": 4,
 "nbformat_minor": 2
}
